{
 "cells": [
  {
   "cell_type": "markdown",
   "metadata": {},
   "source": [
    "<a name=\"top\"></a>\n",
    "<div style=\"width:1000 px\">\n",
    "\n",
    "<div style=\"float:right; width:98 px; height:98px;\">\n",
    "<img src=\"https://raw.githubusercontent.com/Unidata/MetPy/master/src/metpy/plots/_static/unidata_150x150.png\" alt=\"Unidata Logo\" style=\"height: 98px;\">\n",
    "</div>\n",
    "\n",
    "<h1>Siphon Overview</h1>\n",
    "<h3>Unidata Python Workshop</h3>\n",
    "\n",
    "<div style=\"clear:both\"></div>\n",
    "</div>\n",
    "\n",
    "<hr style=\"height:2px;\">\n",
    "\n",
    "<div style=\"float:right; width:250 px\"><img src=\"https://unidata.github.io/siphon/latest/_static/siphon_150x150.png\" alt=\"TDS\" style=\"height: 200px;\"></div>\n",
    "\n",
    "### Questions\n",
    "1. What is a THREDDS Data Server (TDS)?\n",
    "1. How can I use Siphon to access a TDS?\n",
    "\n",
    "### Objectives\n",
    "1. <a href=\"#threddsintro\">Use Siphon to Access a THREDDS Catalog</a>\n",
    "1. <a href=\"#filtering\">Filtering Data</a>\n",
    "1. <a href=\"#dataaccess\">Use Siphon to Perform Remote Data Access</a>"
   ]
  },
  {
   "cell_type": "markdown",
   "metadata": {},
   "source": [
    "<a name=\"threddsintro\"></a>\n",
    "## 1. Use Siphon to Access a THREDDS Catalog\n",
    "\n",
    "THREDDS is a server for providing remote access to datasets and a variety of server-side services. THREDDS make data access more uniform regardless of the on-disk format.\n",
    " * Data Access Services:\n",
    "   - HTTP Download\n",
    "   - Web Mapping/Coverage Service (WMS/WCS)\n",
    "   - OPeNDAP\n",
    "   - NetCDF Subset Service\n",
    "   - CDMRemote\n",
    "   \n",
    "There is a server with real-time data setup at [http://thredds.ucar.edu](http://thredds.ucar.edu) that we'll use to explore the capability of THREDDS and learn how to access data. Let's open that link and explore in the browser what's available on THREDDS. Explore the NEXRAD level 3 data specifically.\n",
    "\n",
    "### THREDDS Catalogs\n",
    "- XML descriptions of data and metadata\n",
    "- Access methods\n",
    "- Easily processed with `siphon.catalog.TDSCatalog`"
   ]
  },
  {
   "cell_type": "code",
   "execution_count": 1,
   "metadata": {},
   "outputs": [],
   "source": [
    "from datetime import datetime, timedelta\n",
    "\n",
    "from siphon.catalog import TDSCatalog"
   ]
  },
  {
   "cell_type": "markdown",
   "metadata": {},
   "source": [
    "Let's get data from yesterday at this time. We'll use the timedelta object to do this in an easy way."
   ]
  },
  {
   "cell_type": "code",
   "execution_count": 2,
   "metadata": {},
   "outputs": [
    {
     "name": "stdout",
     "output_type": "stream",
     "text": [
      "2020-08-20 23:20:19.423067\n"
     ]
    }
   ],
   "source": [
    "date = datetime.utcnow() - timedelta(days=1)\n",
    "print(date)"
   ]
  },
  {
   "cell_type": "markdown",
   "metadata": {},
   "source": [
    "We'll then go find the URL for the level 3 radar data. Let's get the N0Q (tilt 1 base reflectivity) for the LRX radar. Notice that we change the `html` extension to `xml`. Siphon will do that for us, but issue a warning."
   ]
  },
  {
   "cell_type": "code",
   "execution_count": 3,
   "metadata": {},
   "outputs": [],
   "source": [
    "cat = TDSCatalog('http://thredds.ucar.edu/thredds/catalog/nexrad/level3/'\n",
    "                 f'N0Q/LRX/{date:%Y%m%d}/catalog.xml')"
   ]
  },
  {
   "cell_type": "code",
   "execution_count": 4,
   "metadata": {},
   "outputs": [
    {
     "data": {
      "text/plain": [
       "['Level3_LRX_N0Q_20200820_2357.nids', 'Level3_LRX_N0Q_20200820_2354.nids', 'Level3_LRX_N0Q_20200820_2351.nids', 'Level3_LRX_N0Q_20200820_2349.nids', 'Level3_LRX_N0Q_20200820_2346.nids', 'Level3_LRX_N0Q_20200820_2343.nids', 'Level3_LRX_N0Q_20200820_2340.nids', 'Level3_LRX_N0Q_20200820_2338.nids', 'Level3_LRX_N0Q_20200820_2335.nids', 'Level3_LRX_N0Q_20200820_2332.nids', 'Level3_LRX_N0Q_20200820_2329.nids', 'Level3_LRX_N0Q_20200820_2327.nids', 'Level3_LRX_N0Q_20200820_2324.nids', 'Level3_LRX_N0Q_20200820_2321.nids', 'Level3_LRX_N0Q_20200820_2318.nids', 'Level3_LRX_N0Q_20200820_2316.nids', 'Level3_LRX_N0Q_20200820_2313.nids', 'Level3_LRX_N0Q_20200820_2310.nids', 'Level3_LRX_N0Q_20200820_2307.nids', 'Level3_LRX_N0Q_20200820_2304.nids', 'Level3_LRX_N0Q_20200820_2301.nids', 'Level3_LRX_N0Q_20200820_2259.nids', 'Level3_LRX_N0Q_20200820_2256.nids', 'Level3_LRX_N0Q_20200820_2253.nids', 'Level3_LRX_N0Q_20200820_2250.nids', 'Level3_LRX_N0Q_20200820_2248.nids', 'Level3_LRX_N0Q_20200820_2245.nids', 'Level3_LRX_N0Q_20200820_2242.nids', 'Level3_LRX_N0Q_20200820_2239.nids', 'Level3_LRX_N0Q_20200820_2236.nids', 'Level3_LRX_N0Q_20200820_2233.nids', 'Level3_LRX_N0Q_20200820_2231.nids', 'Level3_LRX_N0Q_20200820_2228.nids', 'Level3_LRX_N0Q_20200820_2225.nids', 'Level3_LRX_N0Q_20200820_2222.nids', 'Level3_LRX_N0Q_20200820_2219.nids', 'Level3_LRX_N0Q_20200820_2217.nids', 'Level3_LRX_N0Q_20200820_2214.nids', 'Level3_LRX_N0Q_20200820_2211.nids', 'Level3_LRX_N0Q_20200820_2208.nids', 'Level3_LRX_N0Q_20200820_2205.nids', 'Level3_LRX_N0Q_20200820_2203.nids', 'Level3_LRX_N0Q_20200820_2200.nids', 'Level3_LRX_N0Q_20200820_2157.nids', 'Level3_LRX_N0Q_20200820_2154.nids', 'Level3_LRX_N0Q_20200820_2151.nids', 'Level3_LRX_N0Q_20200820_2148.nids', 'Level3_LRX_N0Q_20200820_2146.nids', 'Level3_LRX_N0Q_20200820_2143.nids', 'Level3_LRX_N0Q_20200820_2140.nids', 'Level3_LRX_N0Q_20200820_2137.nids', 'Level3_LRX_N0Q_20200820_2135.nids', 'Level3_LRX_N0Q_20200820_2132.nids', 'Level3_LRX_N0Q_20200820_2129.nids', 'Level3_LRX_N0Q_20200820_2126.nids', 'Level3_LRX_N0Q_20200820_2123.nids', 'Level3_LRX_N0Q_20200820_2120.nids', 'Level3_LRX_N0Q_20200820_2118.nids', 'Level3_LRX_N0Q_20200820_2115.nids', 'Level3_LRX_N0Q_20200820_2112.nids', 'Level3_LRX_N0Q_20200820_2109.nids', 'Level3_LRX_N0Q_20200820_2107.nids', 'Level3_LRX_N0Q_20200820_2102.nids', 'Level3_LRX_N0Q_20200820_2059.nids', 'Level3_LRX_N0Q_20200820_2056.nids', 'Level3_LRX_N0Q_20200820_2054.nids', 'Level3_LRX_N0Q_20200820_2051.nids', 'Level3_LRX_N0Q_20200820_2048.nids', 'Level3_LRX_N0Q_20200820_2045.nids', 'Level3_LRX_N0Q_20200820_2043.nids', 'Level3_LRX_N0Q_20200820_2040.nids', 'Level3_LRX_N0Q_20200820_2037.nids', 'Level3_LRX_N0Q_20200820_2034.nids', 'Level3_LRX_N0Q_20200820_2032.nids', 'Level3_LRX_N0Q_20200820_2029.nids', 'Level3_LRX_N0Q_20200820_2026.nids', 'Level3_LRX_N0Q_20200820_2023.nids', 'Level3_LRX_N0Q_20200820_2020.nids', 'Level3_LRX_N0Q_20200820_2017.nids', 'Level3_LRX_N0Q_20200820_2015.nids', 'Level3_LRX_N0Q_20200820_2012.nids', 'Level3_LRX_N0Q_20200820_2009.nids', 'Level3_LRX_N0Q_20200820_2006.nids', 'Level3_LRX_N0Q_20200820_2003.nids', 'Level3_LRX_N0Q_20200820_2000.nids', 'Level3_LRX_N0Q_20200820_1958.nids', 'Level3_LRX_N0Q_20200820_1955.nids', 'Level3_LRX_N0Q_20200820_1952.nids', 'Level3_LRX_N0Q_20200820_1949.nids', 'Level3_LRX_N0Q_20200820_1946.nids', 'Level3_LRX_N0Q_20200820_1943.nids', 'Level3_LRX_N0Q_20200820_1941.nids', 'Level3_LRX_N0Q_20200820_1938.nids', 'Level3_LRX_N0Q_20200820_1935.nids', 'Level3_LRX_N0Q_20200820_1932.nids', 'Level3_LRX_N0Q_20200820_1930.nids', 'Level3_LRX_N0Q_20200820_1927.nids', 'Level3_LRX_N0Q_20200820_1924.nids', 'Level3_LRX_N0Q_20200820_1921.nids', 'Level3_LRX_N0Q_20200820_1918.nids', 'Level3_LRX_N0Q_20200820_1915.nids', 'Level3_LRX_N0Q_20200820_1913.nids', 'Level3_LRX_N0Q_20200820_1910.nids', 'Level3_LRX_N0Q_20200820_1907.nids', 'Level3_LRX_N0Q_20200820_1904.nids', 'Level3_LRX_N0Q_20200820_1901.nids', 'Level3_LRX_N0Q_20200820_1858.nids', 'Level3_LRX_N0Q_20200820_1856.nids', 'Level3_LRX_N0Q_20200820_1853.nids', 'Level3_LRX_N0Q_20200820_1850.nids', 'Level3_LRX_N0Q_20200820_1847.nids', 'Level3_LRX_N0Q_20200820_1844.nids', 'Level3_LRX_N0Q_20200820_1841.nids', 'Level3_LRX_N0Q_20200820_1839.nids', 'Level3_LRX_N0Q_20200820_1836.nids', 'Level3_LRX_N0Q_20200820_1833.nids', 'Level3_LRX_N0Q_20200820_1830.nids', 'Level3_LRX_N0Q_20200820_1828.nids', 'Level3_LRX_N0Q_20200820_1825.nids', 'Level3_LRX_N0Q_20200820_1822.nids', 'Level3_LRX_N0Q_20200820_1819.nids', 'Level3_LRX_N0Q_20200820_1817.nids', 'Level3_LRX_N0Q_20200820_1814.nids', 'Level3_LRX_N0Q_20200820_1811.nids', 'Level3_LRX_N0Q_20200820_1808.nids', 'Level3_LRX_N0Q_20200820_1806.nids', 'Level3_LRX_N0Q_20200820_1803.nids', 'Level3_LRX_N0Q_20200820_1800.nids', 'Level3_LRX_N0Q_20200820_1757.nids', 'Level3_LRX_N0Q_20200820_1755.nids', 'Level3_LRX_N0Q_20200820_1752.nids', 'Level3_LRX_N0Q_20200820_1749.nids', 'Level3_LRX_N0Q_20200820_1746.nids', 'Level3_LRX_N0Q_20200820_1744.nids', 'Level3_LRX_N0Q_20200820_1741.nids', 'Level3_LRX_N0Q_20200820_1738.nids', 'Level3_LRX_N0Q_20200820_1735.nids', 'Level3_LRX_N0Q_20200820_1733.nids', 'Level3_LRX_N0Q_20200820_1730.nids', 'Level3_LRX_N0Q_20200820_1727.nids', 'Level3_LRX_N0Q_20200820_1724.nids', 'Level3_LRX_N0Q_20200820_1721.nids', 'Level3_LRX_N0Q_20200820_1718.nids', 'Level3_LRX_N0Q_20200820_1716.nids', 'Level3_LRX_N0Q_20200820_1713.nids', 'Level3_LRX_N0Q_20200820_1710.nids', 'Level3_LRX_N0Q_20200820_1707.nids', 'Level3_LRX_N0Q_20200820_1705.nids', 'Level3_LRX_N0Q_20200820_1702.nids', 'Level3_LRX_N0Q_20200820_1659.nids', 'Level3_LRX_N0Q_20200820_1656.nids', 'Level3_LRX_N0Q_20200820_1653.nids', 'Level3_LRX_N0Q_20200820_1650.nids', 'Level3_LRX_N0Q_20200820_1648.nids', 'Level3_LRX_N0Q_20200820_1645.nids', 'Level3_LRX_N0Q_20200820_1642.nids', 'Level3_LRX_N0Q_20200820_1639.nids', 'Level3_LRX_N0Q_20200820_1637.nids', 'Level3_LRX_N0Q_20200820_1634.nids', 'Level3_LRX_N0Q_20200820_1631.nids', 'Level3_LRX_N0Q_20200820_1628.nids', 'Level3_LRX_N0Q_20200820_1625.nids', 'Level3_LRX_N0Q_20200820_1622.nids', 'Level3_LRX_N0Q_20200820_1620.nids', 'Level3_LRX_N0Q_20200820_1617.nids', 'Level3_LRX_N0Q_20200820_1614.nids', 'Level3_LRX_N0Q_20200820_1611.nids', 'Level3_LRX_N0Q_20200820_1609.nids', 'Level3_LRX_N0Q_20200820_1606.nids', 'Level3_LRX_N0Q_20200820_1603.nids', 'Level3_LRX_N0Q_20200820_1600.nids', 'Level3_LRX_N0Q_20200820_1558.nids', 'Level3_LRX_N0Q_20200820_1555.nids', 'Level3_LRX_N0Q_20200820_1553.nids', 'Level3_LRX_N0Q_20200820_1550.nids', 'Level3_LRX_N0Q_20200820_1547.nids', 'Level3_LRX_N0Q_20200820_1544.nids', 'Level3_LRX_N0Q_20200820_1542.nids', 'Level3_LRX_N0Q_20200820_1539.nids', 'Level3_LRX_N0Q_20200820_1536.nids', 'Level3_LRX_N0Q_20200820_1533.nids', 'Level3_LRX_N0Q_20200820_1531.nids', 'Level3_LRX_N0Q_20200820_1528.nids', 'Level3_LRX_N0Q_20200820_1525.nids', 'Level3_LRX_N0Q_20200820_1522.nids', 'Level3_LRX_N0Q_20200820_1520.nids', 'Level3_LRX_N0Q_20200820_1517.nids', 'Level3_LRX_N0Q_20200820_1514.nids', 'Level3_LRX_N0Q_20200820_1511.nids', 'Level3_LRX_N0Q_20200820_1509.nids', 'Level3_LRX_N0Q_20200820_1506.nids', 'Level3_LRX_N0Q_20200820_1503.nids', 'Level3_LRX_N0Q_20200820_1500.nids', 'Level3_LRX_N0Q_20200820_1458.nids', 'Level3_LRX_N0Q_20200820_1455.nids', 'Level3_LRX_N0Q_20200820_1452.nids', 'Level3_LRX_N0Q_20200820_1449.nids', 'Level3_LRX_N0Q_20200820_1446.nids', 'Level3_LRX_N0Q_20200820_1443.nids', 'Level3_LRX_N0Q_20200820_1441.nids', 'Level3_LRX_N0Q_20200820_1438.nids', 'Level3_LRX_N0Q_20200820_1435.nids', 'Level3_LRX_N0Q_20200820_1432.nids', 'Level3_LRX_N0Q_20200820_1429.nids', 'Level3_LRX_N0Q_20200820_1426.nids', 'Level3_LRX_N0Q_20200820_1424.nids', 'Level3_LRX_N0Q_20200820_1421.nids', 'Level3_LRX_N0Q_20200820_1419.nids', 'Level3_LRX_N0Q_20200820_1416.nids', 'Level3_LRX_N0Q_20200820_1413.nids', 'Level3_LRX_N0Q_20200820_1410.nids', 'Level3_LRX_N0Q_20200820_1408.nids', 'Level3_LRX_N0Q_20200820_1405.nids', 'Level3_LRX_N0Q_20200820_1403.nids', 'Level3_LRX_N0Q_20200820_1400.nids', 'Level3_LRX_N0Q_20200820_1357.nids', 'Level3_LRX_N0Q_20200820_1354.nids', 'Level3_LRX_N0Q_20200820_1352.nids', 'Level3_LRX_N0Q_20200820_1349.nids', 'Level3_LRX_N0Q_20200820_1347.nids', 'Level3_LRX_N0Q_20200820_1344.nids', 'Level3_LRX_N0Q_20200820_1341.nids', 'Level3_LRX_N0Q_20200820_1339.nids', 'Level3_LRX_N0Q_20200820_1336.nids', 'Level3_LRX_N0Q_20200820_1333.nids', 'Level3_LRX_N0Q_20200820_1331.nids', 'Level3_LRX_N0Q_20200820_1328.nids', 'Level3_LRX_N0Q_20200820_1326.nids', 'Level3_LRX_N0Q_20200820_1323.nids', 'Level3_LRX_N0Q_20200820_1320.nids', 'Level3_LRX_N0Q_20200820_1317.nids', 'Level3_LRX_N0Q_20200820_1315.nids', 'Level3_LRX_N0Q_20200820_1312.nids', 'Level3_LRX_N0Q_20200820_1310.nids', 'Level3_LRX_N0Q_20200820_1307.nids', 'Level3_LRX_N0Q_20200820_1304.nids', 'Level3_LRX_N0Q_20200820_1259.nids', 'Level3_LRX_N0Q_20200820_1257.nids', 'Level3_LRX_N0Q_20200820_1254.nids', 'Level3_LRX_N0Q_20200820_1252.nids', 'Level3_LRX_N0Q_20200820_1249.nids', 'Level3_LRX_N0Q_20200820_1246.nids', 'Level3_LRX_N0Q_20200820_1243.nids', 'Level3_LRX_N0Q_20200820_1241.nids', 'Level3_LRX_N0Q_20200820_1238.nids', 'Level3_LRX_N0Q_20200820_1235.nids', 'Level3_LRX_N0Q_20200820_1232.nids', 'Level3_LRX_N0Q_20200820_1230.nids', 'Level3_LRX_N0Q_20200820_1227.nids', 'Level3_LRX_N0Q_20200820_1224.nids', 'Level3_LRX_N0Q_20200820_1221.nids', 'Level3_LRX_N0Q_20200820_1219.nids', 'Level3_LRX_N0Q_20200820_1216.nids', 'Level3_LRX_N0Q_20200820_1213.nids', 'Level3_LRX_N0Q_20200820_1210.nids', 'Level3_LRX_N0Q_20200820_1208.nids', 'Level3_LRX_N0Q_20200820_1205.nids', 'Level3_LRX_N0Q_20200820_1202.nids', 'Level3_LRX_N0Q_20200820_1159.nids', 'Level3_LRX_N0Q_20200820_1156.nids', 'Level3_LRX_N0Q_20200820_1154.nids', 'Level3_LRX_N0Q_20200820_1151.nids', 'Level3_LRX_N0Q_20200820_1148.nids', 'Level3_LRX_N0Q_20200820_1146.nids', 'Level3_LRX_N0Q_20200820_1143.nids', 'Level3_LRX_N0Q_20200820_1141.nids', 'Level3_LRX_N0Q_20200820_1138.nids', 'Level3_LRX_N0Q_20200820_1135.nids', 'Level3_LRX_N0Q_20200820_1132.nids', 'Level3_LRX_N0Q_20200820_1130.nids', 'Level3_LRX_N0Q_20200820_1127.nids', 'Level3_LRX_N0Q_20200820_1125.nids', 'Level3_LRX_N0Q_20200820_1122.nids', 'Level3_LRX_N0Q_20200820_1119.nids', 'Level3_LRX_N0Q_20200820_1117.nids', 'Level3_LRX_N0Q_20200820_1114.nids', 'Level3_LRX_N0Q_20200820_1111.nids', 'Level3_LRX_N0Q_20200820_1109.nids', 'Level3_LRX_N0Q_20200820_1106.nids', 'Level3_LRX_N0Q_20200820_1104.nids', 'Level3_LRX_N0Q_20200820_1101.nids', 'Level3_LRX_N0Q_20200820_1058.nids', 'Level3_LRX_N0Q_20200820_1055.nids', 'Level3_LRX_N0Q_20200820_1053.nids', 'Level3_LRX_N0Q_20200820_1050.nids', 'Level3_LRX_N0Q_20200820_1048.nids', 'Level3_LRX_N0Q_20200820_1045.nids', 'Level3_LRX_N0Q_20200820_1042.nids', 'Level3_LRX_N0Q_20200820_1040.nids', 'Level3_LRX_N0Q_20200820_1037.nids', 'Level3_LRX_N0Q_20200820_1034.nids', 'Level3_LRX_N0Q_20200820_1032.nids', 'Level3_LRX_N0Q_20200820_1029.nids', 'Level3_LRX_N0Q_20200820_1027.nids', 'Level3_LRX_N0Q_20200820_1024.nids', 'Level3_LRX_N0Q_20200820_1021.nids', 'Level3_LRX_N0Q_20200820_1018.nids', 'Level3_LRX_N0Q_20200820_1016.nids', 'Level3_LRX_N0Q_20200820_1013.nids', 'Level3_LRX_N0Q_20200820_1010.nids', 'Level3_LRX_N0Q_20200820_1007.nids', 'Level3_LRX_N0Q_20200820_1005.nids', 'Level3_LRX_N0Q_20200820_1002.nids', 'Level3_LRX_N0Q_20200820_1000.nids', 'Level3_LRX_N0Q_20200820_0957.nids', 'Level3_LRX_N0Q_20200820_0954.nids', 'Level3_LRX_N0Q_20200820_0951.nids', 'Level3_LRX_N0Q_20200820_0949.nids', 'Level3_LRX_N0Q_20200820_0946.nids', 'Level3_LRX_N0Q_20200820_0943.nids', 'Level3_LRX_N0Q_20200820_0940.nids', 'Level3_LRX_N0Q_20200820_0938.nids', 'Level3_LRX_N0Q_20200820_0935.nids', 'Level3_LRX_N0Q_20200820_0932.nids', 'Level3_LRX_N0Q_20200820_0929.nids', 'Level3_LRX_N0Q_20200820_0927.nids', 'Level3_LRX_N0Q_20200820_0924.nids', 'Level3_LRX_N0Q_20200820_0921.nids', 'Level3_LRX_N0Q_20200820_0918.nids', 'Level3_LRX_N0Q_20200820_0915.nids', 'Level3_LRX_N0Q_20200820_0912.nids', 'Level3_LRX_N0Q_20200820_0910.nids', 'Level3_LRX_N0Q_20200820_0907.nids', 'Level3_LRX_N0Q_20200820_0904.nids', 'Level3_LRX_N0Q_20200820_0901.nids', 'Level3_LRX_N0Q_20200820_0858.nids', 'Level3_LRX_N0Q_20200820_0855.nids', 'Level3_LRX_N0Q_20200820_0853.nids', 'Level3_LRX_N0Q_20200820_0850.nids', 'Level3_LRX_N0Q_20200820_0847.nids', 'Level3_LRX_N0Q_20200820_0844.nids', 'Level3_LRX_N0Q_20200820_0841.nids', 'Level3_LRX_N0Q_20200820_0838.nids', 'Level3_LRX_N0Q_20200820_0836.nids', 'Level3_LRX_N0Q_20200820_0833.nids', 'Level3_LRX_N0Q_20200820_0830.nids', 'Level3_LRX_N0Q_20200820_0827.nids', 'Level3_LRX_N0Q_20200820_0825.nids', 'Level3_LRX_N0Q_20200820_0822.nids', 'Level3_LRX_N0Q_20200820_0819.nids', 'Level3_LRX_N0Q_20200820_0816.nids', 'Level3_LRX_N0Q_20200820_0814.nids', 'Level3_LRX_N0Q_20200820_0811.nids', 'Level3_LRX_N0Q_20200820_0808.nids', 'Level3_LRX_N0Q_20200820_0805.nids', 'Level3_LRX_N0Q_20200820_0802.nids', 'Level3_LRX_N0Q_20200820_0759.nids', 'Level3_LRX_N0Q_20200820_0757.nids', 'Level3_LRX_N0Q_20200820_0754.nids', 'Level3_LRX_N0Q_20200820_0751.nids', 'Level3_LRX_N0Q_20200820_0748.nids', 'Level3_LRX_N0Q_20200820_0746.nids', 'Level3_LRX_N0Q_20200820_0743.nids', 'Level3_LRX_N0Q_20200820_0741.nids', 'Level3_LRX_N0Q_20200820_0738.nids', 'Level3_LRX_N0Q_20200820_0735.nids', 'Level3_LRX_N0Q_20200820_0732.nids', 'Level3_LRX_N0Q_20200820_0729.nids', 'Level3_LRX_N0Q_20200820_0727.nids', 'Level3_LRX_N0Q_20200820_0724.nids', 'Level3_LRX_N0Q_20200820_0721.nids', 'Level3_LRX_N0Q_20200820_0719.nids', 'Level3_LRX_N0Q_20200820_0716.nids', 'Level3_LRX_N0Q_20200820_0714.nids', 'Level3_LRX_N0Q_20200820_0711.nids', 'Level3_LRX_N0Q_20200820_0708.nids', 'Level3_LRX_N0Q_20200820_0705.nids', 'Level3_LRX_N0Q_20200820_0703.nids', 'Level3_LRX_N0Q_20200820_0700.nids', 'Level3_LRX_N0Q_20200820_0658.nids', 'Level3_LRX_N0Q_20200820_0655.nids', 'Level3_LRX_N0Q_20200820_0653.nids', 'Level3_LRX_N0Q_20200820_0650.nids', 'Level3_LRX_N0Q_20200820_0647.nids', 'Level3_LRX_N0Q_20200820_0644.nids', 'Level3_LRX_N0Q_20200820_0642.nids', 'Level3_LRX_N0Q_20200820_0639.nids', 'Level3_LRX_N0Q_20200820_0637.nids', 'Level3_LRX_N0Q_20200820_0634.nids', 'Level3_LRX_N0Q_20200820_0631.nids', 'Level3_LRX_N0Q_20200820_0629.nids', 'Level3_LRX_N0Q_20200820_0626.nids', 'Level3_LRX_N0Q_20200820_0623.nids', 'Level3_LRX_N0Q_20200820_0621.nids', 'Level3_LRX_N0Q_20200820_0618.nids', 'Level3_LRX_N0Q_20200820_0616.nids', 'Level3_LRX_N0Q_20200820_0613.nids', 'Level3_LRX_N0Q_20200820_0610.nids', 'Level3_LRX_N0Q_20200820_0607.nids', 'Level3_LRX_N0Q_20200820_0605.nids', 'Level3_LRX_N0Q_20200820_0602.nids', 'Level3_LRX_N0Q_20200820_0600.nids', 'Level3_LRX_N0Q_20200820_0557.nids', 'Level3_LRX_N0Q_20200820_0555.nids', 'Level3_LRX_N0Q_20200820_0552.nids', 'Level3_LRX_N0Q_20200820_0549.nids', 'Level3_LRX_N0Q_20200820_0546.nids', 'Level3_LRX_N0Q_20200820_0544.nids', 'Level3_LRX_N0Q_20200820_0541.nids', 'Level3_LRX_N0Q_20200820_0539.nids', 'Level3_LRX_N0Q_20200820_0536.nids', 'Level3_LRX_N0Q_20200820_0534.nids', 'Level3_LRX_N0Q_20200820_0531.nids', 'Level3_LRX_N0Q_20200820_0528.nids', 'Level3_LRX_N0Q_20200820_0526.nids', 'Level3_LRX_N0Q_20200820_0523.nids', 'Level3_LRX_N0Q_20200820_0520.nids', 'Level3_LRX_N0Q_20200820_0518.nids', 'Level3_LRX_N0Q_20200820_0515.nids', 'Level3_LRX_N0Q_20200820_0513.nids', 'Level3_LRX_N0Q_20200820_0510.nids', 'Level3_LRX_N0Q_20200820_0508.nids', 'Level3_LRX_N0Q_20200820_0505.nids', 'Level3_LRX_N0Q_20200820_0502.nids', 'Level3_LRX_N0Q_20200820_0458.nids', 'Level3_LRX_N0Q_20200820_0455.nids', 'Level3_LRX_N0Q_20200820_0452.nids', 'Level3_LRX_N0Q_20200820_0450.nids', 'Level3_LRX_N0Q_20200820_0447.nids', 'Level3_LRX_N0Q_20200820_0445.nids', 'Level3_LRX_N0Q_20200820_0442.nids', 'Level3_LRX_N0Q_20200820_0439.nids', 'Level3_LRX_N0Q_20200820_0436.nids', 'Level3_LRX_N0Q_20200820_0434.nids', 'Level3_LRX_N0Q_20200820_0431.nids', 'Level3_LRX_N0Q_20200820_0429.nids', 'Level3_LRX_N0Q_20200820_0426.nids', 'Level3_LRX_N0Q_20200820_0423.nids', 'Level3_LRX_N0Q_20200820_0421.nids', 'Level3_LRX_N0Q_20200820_0418.nids', 'Level3_LRX_N0Q_20200820_0415.nids', 'Level3_LRX_N0Q_20200820_0413.nids', 'Level3_LRX_N0Q_20200820_0410.nids', 'Level3_LRX_N0Q_20200820_0408.nids', 'Level3_LRX_N0Q_20200820_0405.nids', 'Level3_LRX_N0Q_20200820_0403.nids', 'Level3_LRX_N0Q_20200820_0400.nids', 'Level3_LRX_N0Q_20200820_0358.nids', 'Level3_LRX_N0Q_20200820_0355.nids', 'Level3_LRX_N0Q_20200820_0352.nids', 'Level3_LRX_N0Q_20200820_0349.nids', 'Level3_LRX_N0Q_20200820_0347.nids', 'Level3_LRX_N0Q_20200820_0344.nids', 'Level3_LRX_N0Q_20200820_0342.nids', 'Level3_LRX_N0Q_20200820_0339.nids', 'Level3_LRX_N0Q_20200820_0337.nids', 'Level3_LRX_N0Q_20200820_0334.nids', 'Level3_LRX_N0Q_20200820_0332.nids', 'Level3_LRX_N0Q_20200820_0329.nids', 'Level3_LRX_N0Q_20200820_0326.nids', 'Level3_LRX_N0Q_20200820_0323.nids', 'Level3_LRX_N0Q_20200820_0321.nids', 'Level3_LRX_N0Q_20200820_0318.nids', 'Level3_LRX_N0Q_20200820_0316.nids', 'Level3_LRX_N0Q_20200820_0313.nids', 'Level3_LRX_N0Q_20200820_0311.nids', 'Level3_LRX_N0Q_20200820_0308.nids', 'Level3_LRX_N0Q_20200820_0306.nids', 'Level3_LRX_N0Q_20200820_0303.nids', 'Level3_LRX_N0Q_20200820_0300.nids', 'Level3_LRX_N0Q_20200820_0258.nids', 'Level3_LRX_N0Q_20200820_0255.nids', 'Level3_LRX_N0Q_20200820_0252.nids', 'Level3_LRX_N0Q_20200820_0250.nids', 'Level3_LRX_N0Q_20200820_0247.nids', 'Level3_LRX_N0Q_20200820_0245.nids', 'Level3_LRX_N0Q_20200820_0242.nids', 'Level3_LRX_N0Q_20200820_0239.nids', 'Level3_LRX_N0Q_20200820_0236.nids', 'Level3_LRX_N0Q_20200820_0234.nids', 'Level3_LRX_N0Q_20200820_0231.nids', 'Level3_LRX_N0Q_20200820_0229.nids', 'Level3_LRX_N0Q_20200820_0226.nids', 'Level3_LRX_N0Q_20200820_0224.nids', 'Level3_LRX_N0Q_20200820_0221.nids', 'Level3_LRX_N0Q_20200820_0218.nids', 'Level3_LRX_N0Q_20200820_0216.nids', 'Level3_LRX_N0Q_20200820_0213.nids', 'Level3_LRX_N0Q_20200820_0210.nids', 'Level3_LRX_N0Q_20200820_0208.nids', 'Level3_LRX_N0Q_20200820_0205.nids', 'Level3_LRX_N0Q_20200820_0202.nids', 'Level3_LRX_N0Q_20200820_0159.nids', 'Level3_LRX_N0Q_20200820_0157.nids', 'Level3_LRX_N0Q_20200820_0154.nids', 'Level3_LRX_N0Q_20200820_0152.nids', 'Level3_LRX_N0Q_20200820_0148.nids', 'Level3_LRX_N0Q_20200820_0146.nids', 'Level3_LRX_N0Q_20200820_0143.nids', 'Level3_LRX_N0Q_20200820_0140.nids', 'Level3_LRX_N0Q_20200820_0137.nids', 'Level3_LRX_N0Q_20200820_0135.nids', 'Level3_LRX_N0Q_20200820_0132.nids', 'Level3_LRX_N0Q_20200820_0129.nids', 'Level3_LRX_N0Q_20200820_0126.nids', 'Level3_LRX_N0Q_20200820_0123.nids', 'Level3_LRX_N0Q_20200820_0121.nids', 'Level3_LRX_N0Q_20200820_0118.nids', 'Level3_LRX_N0Q_20200820_0115.nids', 'Level3_LRX_N0Q_20200820_0112.nids', 'Level3_LRX_N0Q_20200820_0109.nids', 'Level3_LRX_N0Q_20200820_0106.nids', 'Level3_LRX_N0Q_20200820_0103.nids', 'Level3_LRX_N0Q_20200820_0100.nids', 'Level3_LRX_N0Q_20200820_0057.nids', 'Level3_LRX_N0Q_20200820_0055.nids', 'Level3_LRX_N0Q_20200820_0051.nids', 'Level3_LRX_N0Q_20200820_0049.nids', 'Level3_LRX_N0Q_20200820_0046.nids', 'Level3_LRX_N0Q_20200820_0043.nids', 'Level3_LRX_N0Q_20200820_0040.nids', 'Level3_LRX_N0Q_20200820_0037.nids', 'Level3_LRX_N0Q_20200820_0034.nids', 'Level3_LRX_N0Q_20200820_0031.nids', 'Level3_LRX_N0Q_20200820_0028.nids', 'Level3_LRX_N0Q_20200820_0026.nids', 'Level3_LRX_N0Q_20200820_0023.nids', 'Level3_LRX_N0Q_20200820_0020.nids', 'Level3_LRX_N0Q_20200820_0017.nids', 'Level3_LRX_N0Q_20200820_0014.nids', 'Level3_LRX_N0Q_20200820_0011.nids', 'Level3_LRX_N0Q_20200820_0009.nids', 'Level3_LRX_N0Q_20200820_0005.nids', 'Level3_LRX_N0Q_20200820_0003.nids', 'Level3_LRX_N0Q_20200820_0000.nids']"
      ]
     },
     "execution_count": 4,
     "metadata": {},
     "output_type": "execute_result"
    }
   ],
   "source": [
    "cat.datasets"
   ]
  },
  {
   "cell_type": "markdown",
   "metadata": {},
   "source": [
    "<a href=\"#top\">Top</a>\n",
    "<hr style=\"height:2px;\">"
   ]
  },
  {
   "cell_type": "markdown",
   "metadata": {},
   "source": [
    "<a name=\"filtering\"></a>\n",
    "## 2. Filtering Data"
   ]
  },
  {
   "cell_type": "markdown",
   "metadata": {},
   "source": [
    "We *could* manually look through that list above and figure out what dataset we're looking for and generate that name (or index). Siphon provides some helpers to simplify this process, provided the names of the dataset follow a pattern with the timestamp in the name:"
   ]
  },
  {
   "cell_type": "code",
   "execution_count": 5,
   "metadata": {},
   "outputs": [
    {
     "data": {
      "text/plain": [
       "Level3_LRX_N0Q_20200820_1830.nids"
      ]
     },
     "execution_count": 5,
     "metadata": {},
     "output_type": "execute_result"
    }
   ],
   "source": [
    "request_time = date.replace(hour=18, minute=30, second=0, microsecond=0)\n",
    "ds = cat.datasets.filter_time_nearest(request_time)\n",
    "ds"
   ]
  },
  {
   "cell_type": "markdown",
   "metadata": {},
   "source": [
    "We can also find the list of datasets within a time range:"
   ]
  },
  {
   "cell_type": "code",
   "execution_count": 6,
   "metadata": {},
   "outputs": [
    {
     "name": "stdout",
     "output_type": "stream",
     "text": [
      "[Level3_LRX_N0Q_20200820_1930.nids, Level3_LRX_N0Q_20200820_1927.nids, Level3_LRX_N0Q_20200820_1924.nids, Level3_LRX_N0Q_20200820_1921.nids, Level3_LRX_N0Q_20200820_1918.nids, Level3_LRX_N0Q_20200820_1915.nids, Level3_LRX_N0Q_20200820_1913.nids, Level3_LRX_N0Q_20200820_1910.nids, Level3_LRX_N0Q_20200820_1907.nids, Level3_LRX_N0Q_20200820_1904.nids, Level3_LRX_N0Q_20200820_1901.nids, Level3_LRX_N0Q_20200820_1858.nids, Level3_LRX_N0Q_20200820_1856.nids, Level3_LRX_N0Q_20200820_1853.nids, Level3_LRX_N0Q_20200820_1850.nids, Level3_LRX_N0Q_20200820_1847.nids, Level3_LRX_N0Q_20200820_1844.nids, Level3_LRX_N0Q_20200820_1841.nids, Level3_LRX_N0Q_20200820_1839.nids, Level3_LRX_N0Q_20200820_1836.nids, Level3_LRX_N0Q_20200820_1833.nids, Level3_LRX_N0Q_20200820_1830.nids]\n"
     ]
    }
   ],
   "source": [
    "datasets = cat.datasets.filter_time_range(request_time, request_time + timedelta(hours=1))\n",
    "print(datasets)"
   ]
  },
  {
   "cell_type": "markdown",
   "metadata": {},
   "source": [
    "<div class=\"alert alert-success\">\n",
    "    <b>EXERCISE</b>:\n",
    "     <ul>\n",
    "        <li>Starting from http://thredds.ucar.edu/, find the level 2 radar data for the Tulsa, OK radar (KINX) for the previous day.</li>\n",
    "        <li>Grab the URL and create a TDSCatalog instance.</li>\n",
    "        <li>Using Siphon, find the data available in the catalog between 12Z and 18Z on the previous day.</li>\n",
    "    </ul>\n",
    "</div>"
   ]
  },
  {
   "cell_type": "code",
   "execution_count": 7,
   "metadata": {},
   "outputs": [],
   "source": [
    "# YOUR CODE GOES HERE"
   ]
  },
  {
   "cell_type": "markdown",
   "metadata": {},
   "source": [
    "<div class=\"alert alert-info\">\n",
    "    <b>SOLUTION</b>\n",
    "</div>"
   ]
  },
  {
   "cell_type": "code",
   "execution_count": 8,
   "metadata": {},
   "outputs": [
    {
     "name": "stdout",
     "output_type": "stream",
     "text": [
      "[Level2_KINX_20200820_1758.ar2v, Level2_KINX_20200820_1749.ar2v, Level2_KINX_20200820_1741.ar2v, Level2_KINX_20200820_1732.ar2v, Level2_KINX_20200820_1723.ar2v, Level2_KINX_20200820_1715.ar2v, Level2_KINX_20200820_1706.ar2v, Level2_KINX_20200820_1657.ar2v, Level2_KINX_20200820_1649.ar2v, Level2_KINX_20200820_1640.ar2v, Level2_KINX_20200820_1631.ar2v, Level2_KINX_20200820_1623.ar2v, Level2_KINX_20200820_1614.ar2v, Level2_KINX_20200820_1605.ar2v, Level2_KINX_20200820_1556.ar2v, Level2_KINX_20200820_1548.ar2v, Level2_KINX_20200820_1539.ar2v, Level2_KINX_20200820_1530.ar2v, Level2_KINX_20200820_1521.ar2v, Level2_KINX_20200820_1513.ar2v, Level2_KINX_20200820_1504.ar2v, Level2_KINX_20200820_1455.ar2v, Level2_KINX_20200820_1446.ar2v, Level2_KINX_20200820_1438.ar2v, Level2_KINX_20200820_1427.ar2v, Level2_KINX_20200820_1418.ar2v, Level2_KINX_20200820_1409.ar2v, Level2_KINX_20200820_1401.ar2v, Level2_KINX_20200820_1352.ar2v, Level2_KINX_20200820_1343.ar2v, Level2_KINX_20200820_1334.ar2v, Level2_KINX_20200820_1326.ar2v, Level2_KINX_20200820_1317.ar2v, Level2_KINX_20200820_1308.ar2v, Level2_KINX_20200820_1259.ar2v, Level2_KINX_20200820_1251.ar2v, Level2_KINX_20200820_1242.ar2v, Level2_KINX_20200820_1233.ar2v, Level2_KINX_20200820_1224.ar2v, Level2_KINX_20200820_1216.ar2v, Level2_KINX_20200820_1207.ar2v]\n"
     ]
    }
   ],
   "source": [
    "# %load solutions/datasets.py\n",
    "\n",
    "# Cell content replaced by load magic replacement.\n",
    "# Solution from above in case you had trouble\n",
    "date = datetime.utcnow() - timedelta(days=1)\n",
    "cat = TDSCatalog(f'https://thredds.ucar.edu/thredds/catalog/nexrad/level2/KINX/{date:%Y%m%d}/catalog.xml')\n",
    "request_time = date.replace(hour=12, minute=0, second=0, microsecond=0)\n",
    "datasets = cat.datasets.filter_time_range(request_time, request_time + timedelta(hours=6))\n",
    "print(datasets)\n"
   ]
  },
  {
   "cell_type": "markdown",
   "metadata": {},
   "source": [
    "<a href=\"#top\">Top</a>\n",
    "<hr style=\"height:2px;\">"
   ]
  },
  {
   "cell_type": "markdown",
   "metadata": {},
   "source": [
    "<a name=\"dataaccess\"></a>\n",
    "## 3. Use Siphon to Perform Remote Data Access\n",
    "\n",
    "Accessing catalogs is only part of the story; Siphon is much more useful if you're trying to access/download datasets.\n",
    "\n",
    "For instance, using our data that we just retrieved:"
   ]
  },
  {
   "cell_type": "code",
   "execution_count": 9,
   "metadata": {},
   "outputs": [],
   "source": [
    "# Solution from above in case you had trouble\n",
    "date = datetime.utcnow() - timedelta(days=1)\n",
    "cat = TDSCatalog(f'https://thredds.ucar.edu/thredds/catalog/nexrad/level2/KINX/{date:%Y%m%d}/catalog.xml')\n",
    "request_time = date.replace(hour=12, minute=0, second=0, microsecond=0)\n",
    "datasets = cat.datasets.filter_time_range(request_time, request_time + timedelta(hours=6))"
   ]
  },
  {
   "cell_type": "code",
   "execution_count": 10,
   "metadata": {},
   "outputs": [],
   "source": [
    "ds = datasets[0]"
   ]
  },
  {
   "cell_type": "markdown",
   "metadata": {
    "slideshow": {
     "slide_type": "fragment"
    }
   },
   "source": [
    "We can ask Siphon to download the file locally:"
   ]
  },
  {
   "cell_type": "code",
   "execution_count": 11,
   "metadata": {},
   "outputs": [],
   "source": [
    "ds.download()"
   ]
  },
  {
   "cell_type": "markdown",
   "metadata": {},
   "source": [
    "Look in your file explorer panel or run the cell below to verify that we did actually download the file!"
   ]
  },
  {
   "cell_type": "code",
   "execution_count": 12,
   "metadata": {},
   "outputs": [
    {
     "data": {
      "text/plain": [
       "['solutions', 'Siphon Overview.ipynb', 'Level2_KINX_20200820_1758.ar2v']"
      ]
     },
     "execution_count": 12,
     "metadata": {},
     "output_type": "execute_result"
    }
   ],
   "source": [
    "import os; os.listdir()"
   ]
  },
  {
   "cell_type": "markdown",
   "metadata": {
    "slideshow": {
     "slide_type": "subslide"
    }
   },
   "source": [
    "Or better yet, get a file-like object that lets us `read` from the file as if it were local:"
   ]
  },
  {
   "cell_type": "code",
   "execution_count": 13,
   "metadata": {},
   "outputs": [
    {
     "name": "stdout",
     "output_type": "stream",
     "text": [
      "6795480\n"
     ]
    }
   ],
   "source": [
    "fobj = ds.remote_open()\n",
    "data = fobj.read()\n",
    "print(len(data))"
   ]
  },
  {
   "cell_type": "markdown",
   "metadata": {},
   "source": [
    "This is handy if you have Python code to read a particular format."
   ]
  },
  {
   "cell_type": "markdown",
   "metadata": {
    "slideshow": {
     "slide_type": "subslide"
    }
   },
   "source": [
    "It's also possible to get access to the file through services that provide netCDF4-like access, but for the remote file. This access allows downloading information only for variables of interest, or for (index-based) subsets of that data:"
   ]
  },
  {
   "cell_type": "code",
   "execution_count": 14,
   "metadata": {},
   "outputs": [],
   "source": [
    "nc = ds.remote_access()"
   ]
  },
  {
   "cell_type": "markdown",
   "metadata": {},
   "source": [
    "By default this uses CDMRemote (if available), but it's also possible to ask for OPeNDAP (using netCDF4-python). There is even XArray support which is great with the declarative plotting interface - more on that later."
   ]
  },
  {
   "cell_type": "code",
   "execution_count": 15,
   "metadata": {},
   "outputs": [
    {
     "name": "stdout",
     "output_type": "stream",
     "text": [
      "['Reflectivity_HI', 'timeR_HI', 'elevationR_HI', 'azimuthR_HI', 'distanceR_HI', 'numRadialsR_HI', 'numGatesR_HI', 'Reflectivity', 'timeR', 'elevationR', 'azimuthR', 'distanceR', 'numRadialsR', 'numGatesR', 'RadialVelocity_HI', 'timeV_HI', 'elevationV_HI', 'azimuthV_HI', 'distanceV_HI', 'numRadialsV_HI', 'numGatesV_HI', 'RadialVelocity', 'timeV', 'elevationV', 'azimuthV', 'distanceV', 'numRadialsV', 'numGatesV', 'SpectrumWidth_HI', 'SpectrumWidth', 'DifferentialReflectivity_HI', 'timeD_HI', 'elevationD_HI', 'azimuthD_HI', 'distanceD_HI', 'numRadialsD_HI', 'numGatesD_HI', 'DifferentialReflectivity', 'timeD', 'elevationD', 'azimuthD', 'distanceD', 'numRadialsD', 'numGatesD', 'CorrelationCoefficient_HI', 'timeC_HI', 'elevationC_HI', 'azimuthC_HI', 'distanceC_HI', 'numRadialsC_HI', 'numGatesC_HI', 'CorrelationCoefficient', 'timeC', 'elevationC', 'azimuthC', 'distanceC', 'numRadialsC', 'numGatesC', 'DifferentialPhase_HI', 'timeP_HI', 'elevationP_HI', 'azimuthP_HI', 'distanceP_HI', 'numRadialsP_HI', 'numGatesP_HI', 'DifferentialPhase', 'timeP', 'elevationP', 'azimuthP', 'distanceP', 'numRadialsP', 'numGatesP']\n"
     ]
    }
   ],
   "source": [
    "print(list(nc.variables))"
   ]
  },
  {
   "cell_type": "markdown",
   "metadata": {},
   "source": [
    "<a href=\"#top\">Top</a>\n",
    "<hr style=\"height:2px;\">"
   ]
  }
 ],
 "metadata": {
  "kernelspec": {
   "display_name": "Python 3",
   "language": "python",
   "name": "python3"
  },
  "language_info": {
   "codemirror_mode": {
    "name": "ipython",
    "version": 3
   },
   "file_extension": ".py",
   "mimetype": "text/x-python",
   "name": "python",
   "nbconvert_exporter": "python",
   "pygments_lexer": "ipython3",
   "version": "3.7.8"
  }
 },
 "nbformat": 4,
 "nbformat_minor": 4
}
