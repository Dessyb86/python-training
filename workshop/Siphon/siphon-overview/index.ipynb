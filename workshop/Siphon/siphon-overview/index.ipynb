{
 "cells": [
  {
   "cell_type": "markdown",
   "metadata": {},
   "source": [
    "<a name=\"top\"></a>\n",
    "<div style=\"width:1000 px\">\n",
    "\n",
    "<div style=\"float:right; width:98 px; height:98px;\">\n",
    "<img src=\"https://raw.githubusercontent.com/Unidata/MetPy/master/src/metpy/plots/_static/unidata_150x150.png\" alt=\"Unidata Logo\" style=\"height: 98px;\">\n",
    "</div>\n",
    "\n",
    "<h1>Siphon Overview</h1>\n",
    "<h3>Unidata Python Workshop</h3>\n",
    "\n",
    "<div style=\"clear:both\"></div>\n",
    "</div>\n",
    "\n",
    "<hr style=\"height:2px;\">\n",
    "\n",
    "<div style=\"float:right; width:250 px\"><img src=\"https://unidata.github.io/siphon/latest/_static/siphon_150x150.png\" alt=\"TDS\" style=\"height: 200px;\"></div>\n",
    "\n",
    "### Questions\n",
    "1. What is a THREDDS Data Server (TDS)?\n",
    "1. How can I use Siphon to access a TDS?\n",
    "\n",
    "### Objectives\n",
    "1. <a href=\"#threddsintro\">Use Siphon to Access a THREDDS Catalog</a>\n",
    "1. <a href=\"#filtering\">Filtering Data</a>\n",
    "1. <a href=\"#dataaccess\">Use Siphon to Perform Remote Data Access</a>"
   ]
  },
  {
   "cell_type": "markdown",
   "metadata": {},
   "source": [
    "<a name=\"threddsintro\"></a>\n",
    "## 1. Use Siphon to Access a THREDDS Catalog\n",
    "\n",
    "THREDDS is a server for providing remote access to datasets and a variety of server-side services. THREDDS make data access more uniform regardless of the on-disk format.\n",
    " * Data Access Services:\n",
    "   - HTTP Download\n",
    "   - Web Mapping/Coverage Service (WMS/WCS)\n",
    "   - OPeNDAP\n",
    "   - NetCDF Subset Service\n",
    "   - CDMRemote\n",
    "   \n",
    "There is a server with real-time data setup at [http://thredds.ucar.edu](http://thredds.ucar.edu) that we'll use to explore the capability of THREDDS and learn how to access data. Let's open that link and explore in the browser what's available on THREDDS. Explore the NEXRAD level 3 data specifically.\n",
    "\n",
    "### THREDDS Catalogs\n",
    "- XML descriptions of data and metadata\n",
    "- Access methods\n",
    "- Easily processed with `siphon.catalog.TDSCatalog`"
   ]
  },
  {
   "cell_type": "code",
   "execution_count": 1,
   "metadata": {},
   "outputs": [],
   "source": [
    "from datetime import datetime, timedelta\n",
    "\n",
    "from siphon.catalog import TDSCatalog"
   ]
  },
  {
   "cell_type": "markdown",
   "metadata": {},
   "source": [
    "Let's get data from yesterday at this time. We'll use the timedelta object to do this in an easy way."
   ]
  },
  {
   "cell_type": "code",
   "execution_count": 2,
   "metadata": {},
   "outputs": [
    {
     "name": "stdout",
     "output_type": "stream",
     "text": [
      "2020-09-03 15:33:56.810427\n"
     ]
    }
   ],
   "source": [
    "date = datetime.utcnow() - timedelta(days=1)\n",
    "print(date)"
   ]
  },
  {
   "cell_type": "markdown",
   "metadata": {},
   "source": [
    "We'll then go find the URL for the level 3 radar data. Let's get the N0Q (tilt 1 base reflectivity) for the LRX radar. Notice that we change the `html` extension to `xml`. Siphon will do that for us, but issue a warning."
   ]
  },
  {
   "cell_type": "code",
   "execution_count": 3,
   "metadata": {},
   "outputs": [],
   "source": [
    "cat = TDSCatalog('http://thredds.ucar.edu/thredds/catalog/nexrad/level3/'\n",
    "                 f'N0Q/LRX/{date:%Y%m%d}/catalog.xml')"
   ]
  },
  {
   "cell_type": "code",
   "execution_count": 4,
   "metadata": {},
   "outputs": [
    {
     "data": {
      "text/plain": [
       "['Level3_LRX_N0Q_20200903_2357.nids', 'Level3_LRX_N0Q_20200903_2347.nids', 'Level3_LRX_N0Q_20200903_2338.nids', 'Level3_LRX_N0Q_20200903_2328.nids', 'Level3_LRX_N0Q_20200903_2319.nids', 'Level3_LRX_N0Q_20200903_2309.nids', 'Level3_LRX_N0Q_20200903_2257.nids', 'Level3_LRX_N0Q_20200903_2248.nids', 'Level3_LRX_N0Q_20200903_2238.nids', 'Level3_LRX_N0Q_20200903_2229.nids', 'Level3_LRX_N0Q_20200903_2219.nids', 'Level3_LRX_N0Q_20200903_2209.nids', 'Level3_LRX_N0Q_20200903_2200.nids', 'Level3_LRX_N0Q_20200903_2150.nids', 'Level3_LRX_N0Q_20200903_2140.nids', 'Level3_LRX_N0Q_20200903_2131.nids', 'Level3_LRX_N0Q_20200903_2121.nids', 'Level3_LRX_N0Q_20200903_2112.nids', 'Level3_LRX_N0Q_20200903_2102.nids', 'Level3_LRX_N0Q_20200903_2052.nids', 'Level3_LRX_N0Q_20200903_2043.nids', 'Level3_LRX_N0Q_20200903_2033.nids', 'Level3_LRX_N0Q_20200903_2024.nids', 'Level3_LRX_N0Q_20200903_2014.nids', 'Level3_LRX_N0Q_20200903_2004.nids', 'Level3_LRX_N0Q_20200903_1955.nids', 'Level3_LRX_N0Q_20200903_1945.nids', 'Level3_LRX_N0Q_20200903_1936.nids', 'Level3_LRX_N0Q_20200903_1926.nids', 'Level3_LRX_N0Q_20200903_1916.nids', 'Level3_LRX_N0Q_20200903_1907.nids', 'Level3_LRX_N0Q_20200903_1857.nids', 'Level3_LRX_N0Q_20200903_1847.nids', 'Level3_LRX_N0Q_20200903_1838.nids', 'Level3_LRX_N0Q_20200903_1828.nids', 'Level3_LRX_N0Q_20200903_1819.nids', 'Level3_LRX_N0Q_20200903_1809.nids', 'Level3_LRX_N0Q_20200903_1759.nids', 'Level3_LRX_N0Q_20200903_1750.nids', 'Level3_LRX_N0Q_20200903_1740.nids', 'Level3_LRX_N0Q_20200903_1731.nids', 'Level3_LRX_N0Q_20200903_1721.nids', 'Level3_LRX_N0Q_20200903_1711.nids', 'Level3_LRX_N0Q_20200903_1702.nids', 'Level3_LRX_N0Q_20200903_1652.nids', 'Level3_LRX_N0Q_20200903_1643.nids', 'Level3_LRX_N0Q_20200903_1633.nids', 'Level3_LRX_N0Q_20200903_1623.nids', 'Level3_LRX_N0Q_20200903_1614.nids', 'Level3_LRX_N0Q_20200903_1604.nids', 'Level3_LRX_N0Q_20200903_1555.nids', 'Level3_LRX_N0Q_20200903_1545.nids', 'Level3_LRX_N0Q_20200903_1535.nids', 'Level3_LRX_N0Q_20200903_1526.nids', 'Level3_LRX_N0Q_20200903_1516.nids', 'Level3_LRX_N0Q_20200903_1506.nids', 'Level3_LRX_N0Q_20200903_1455.nids', 'Level3_LRX_N0Q_20200903_1445.nids', 'Level3_LRX_N0Q_20200903_1436.nids', 'Level3_LRX_N0Q_20200903_1426.nids', 'Level3_LRX_N0Q_20200903_1416.nids', 'Level3_LRX_N0Q_20200903_1407.nids', 'Level3_LRX_N0Q_20200903_1357.nids', 'Level3_LRX_N0Q_20200903_1348.nids', 'Level3_LRX_N0Q_20200903_1338.nids', 'Level3_LRX_N0Q_20200903_1328.nids', 'Level3_LRX_N0Q_20200903_1319.nids', 'Level3_LRX_N0Q_20200903_1309.nids', 'Level3_LRX_N0Q_20200903_1300.nids', 'Level3_LRX_N0Q_20200903_1250.nids', 'Level3_LRX_N0Q_20200903_1240.nids', 'Level3_LRX_N0Q_20200903_1231.nids', 'Level3_LRX_N0Q_20200903_1221.nids', 'Level3_LRX_N0Q_20200903_1212.nids', 'Level3_LRX_N0Q_20200903_1202.nids', 'Level3_LRX_N0Q_20200903_1152.nids', 'Level3_LRX_N0Q_20200903_1143.nids', 'Level3_LRX_N0Q_20200903_1133.nids', 'Level3_LRX_N0Q_20200903_1124.nids', 'Level3_LRX_N0Q_20200903_1114.nids', 'Level3_LRX_N0Q_20200903_1104.nids', 'Level3_LRX_N0Q_20200903_1055.nids', 'Level3_LRX_N0Q_20200903_1045.nids', 'Level3_LRX_N0Q_20200903_1036.nids', 'Level3_LRX_N0Q_20200903_1026.nids', 'Level3_LRX_N0Q_20200903_1016.nids', 'Level3_LRX_N0Q_20200903_1007.nids', 'Level3_LRX_N0Q_20200903_0957.nids', 'Level3_LRX_N0Q_20200903_0948.nids', 'Level3_LRX_N0Q_20200903_0938.nids', 'Level3_LRX_N0Q_20200903_0928.nids', 'Level3_LRX_N0Q_20200903_0919.nids', 'Level3_LRX_N0Q_20200903_0909.nids', 'Level3_LRX_N0Q_20200903_0900.nids', 'Level3_LRX_N0Q_20200903_0850.nids', 'Level3_LRX_N0Q_20200903_0840.nids', 'Level3_LRX_N0Q_20200903_0831.nids', 'Level3_LRX_N0Q_20200903_0821.nids', 'Level3_LRX_N0Q_20200903_0812.nids', 'Level3_LRX_N0Q_20200903_0802.nids', 'Level3_LRX_N0Q_20200903_0752.nids', 'Level3_LRX_N0Q_20200903_0743.nids', 'Level3_LRX_N0Q_20200903_0733.nids', 'Level3_LRX_N0Q_20200903_0723.nids', 'Level3_LRX_N0Q_20200903_0714.nids', 'Level3_LRX_N0Q_20200903_0704.nids', 'Level3_LRX_N0Q_20200903_0653.nids', 'Level3_LRX_N0Q_20200903_0643.nids', 'Level3_LRX_N0Q_20200903_0633.nids', 'Level3_LRX_N0Q_20200903_0624.nids', 'Level3_LRX_N0Q_20200903_0614.nids', 'Level3_LRX_N0Q_20200903_0605.nids', 'Level3_LRX_N0Q_20200903_0555.nids', 'Level3_LRX_N0Q_20200903_0545.nids', 'Level3_LRX_N0Q_20200903_0536.nids', 'Level3_LRX_N0Q_20200903_0526.nids', 'Level3_LRX_N0Q_20200903_0517.nids', 'Level3_LRX_N0Q_20200903_0507.nids', 'Level3_LRX_N0Q_20200903_0457.nids', 'Level3_LRX_N0Q_20200903_0448.nids', 'Level3_LRX_N0Q_20200903_0438.nids', 'Level3_LRX_N0Q_20200903_0429.nids', 'Level3_LRX_N0Q_20200903_0419.nids', 'Level3_LRX_N0Q_20200903_0409.nids', 'Level3_LRX_N0Q_20200903_0400.nids', 'Level3_LRX_N0Q_20200903_0350.nids', 'Level3_LRX_N0Q_20200903_0341.nids', 'Level3_LRX_N0Q_20200903_0331.nids', 'Level3_LRX_N0Q_20200903_0321.nids', 'Level3_LRX_N0Q_20200903_0312.nids', 'Level3_LRX_N0Q_20200903_0302.nids', 'Level3_LRX_N0Q_20200903_0253.nids', 'Level3_LRX_N0Q_20200903_0243.nids', 'Level3_LRX_N0Q_20200903_0233.nids', 'Level3_LRX_N0Q_20200903_0224.nids', 'Level3_LRX_N0Q_20200903_0214.nids', 'Level3_LRX_N0Q_20200903_0205.nids', 'Level3_LRX_N0Q_20200903_0155.nids', 'Level3_LRX_N0Q_20200903_0145.nids', 'Level3_LRX_N0Q_20200903_0136.nids', 'Level3_LRX_N0Q_20200903_0126.nids', 'Level3_LRX_N0Q_20200903_0117.nids', 'Level3_LRX_N0Q_20200903_0107.nids', 'Level3_LRX_N0Q_20200903_0057.nids', 'Level3_LRX_N0Q_20200903_0048.nids', 'Level3_LRX_N0Q_20200903_0038.nids', 'Level3_LRX_N0Q_20200903_0029.nids', 'Level3_LRX_N0Q_20200903_0019.nids', 'Level3_LRX_N0Q_20200903_0009.nids', 'Level3_LRX_N0Q_20200903_0000.nids']"
      ]
     },
     "execution_count": 4,
     "metadata": {},
     "output_type": "execute_result"
    }
   ],
   "source": [
    "cat.datasets"
   ]
  },
  {
   "cell_type": "markdown",
   "metadata": {},
   "source": [
    "<a href=\"#top\">Top</a>\n",
    "<hr style=\"height:2px;\">"
   ]
  },
  {
   "cell_type": "markdown",
   "metadata": {},
   "source": [
    "<a name=\"filtering\"></a>\n",
    "## 2. Filtering Data"
   ]
  },
  {
   "cell_type": "markdown",
   "metadata": {},
   "source": [
    "We *could* manually look through that list above and figure out what dataset we're looking for and generate that name (or index). Siphon provides some helpers to simplify this process, provided the names of the dataset follow a pattern with the timestamp in the name:"
   ]
  },
  {
   "cell_type": "code",
   "execution_count": 5,
   "metadata": {},
   "outputs": [
    {
     "data": {
      "text/plain": [
       "Level3_LRX_N0Q_20200903_1828.nids"
      ]
     },
     "execution_count": 5,
     "metadata": {},
     "output_type": "execute_result"
    }
   ],
   "source": [
    "request_time = date.replace(hour=18, minute=30, second=0, microsecond=0)\n",
    "ds = cat.datasets.filter_time_nearest(request_time)\n",
    "ds"
   ]
  },
  {
   "cell_type": "markdown",
   "metadata": {},
   "source": [
    "We can also find the list of datasets within a time range:"
   ]
  },
  {
   "cell_type": "code",
   "execution_count": 6,
   "metadata": {},
   "outputs": [
    {
     "name": "stdout",
     "output_type": "stream",
     "text": [
      "[Level3_LRX_N0Q_20200903_1926.nids, Level3_LRX_N0Q_20200903_1916.nids, Level3_LRX_N0Q_20200903_1907.nids, Level3_LRX_N0Q_20200903_1857.nids, Level3_LRX_N0Q_20200903_1847.nids, Level3_LRX_N0Q_20200903_1838.nids]\n"
     ]
    }
   ],
   "source": [
    "datasets = cat.datasets.filter_time_range(request_time, request_time + timedelta(hours=1))\n",
    "print(datasets)"
   ]
  },
  {
   "cell_type": "markdown",
   "metadata": {},
   "source": [
    "<div class=\"alert alert-success\">\n",
    "    <b>EXERCISE</b>:\n",
    "     <ul>\n",
    "        <li>Starting from http://thredds.ucar.edu/, find the level 2 radar data for the Tulsa, OK radar (KINX) for the previous day.</li>\n",
    "        <li>Grab the URL and create a TDSCatalog instance.</li>\n",
    "        <li>Using Siphon, find the data available in the catalog between 12Z and 18Z on the previous day.</li>\n",
    "    </ul>\n",
    "</div>"
   ]
  },
  {
   "cell_type": "code",
   "execution_count": 7,
   "metadata": {},
   "outputs": [],
   "source": [
    "# YOUR CODE GOES HERE"
   ]
  },
  {
   "cell_type": "markdown",
   "metadata": {},
   "source": [
    "<div class=\"alert alert-info\">\n",
    "    <b>SOLUTION</b>\n",
    "</div>"
   ]
  },
  {
   "cell_type": "code",
   "execution_count": 8,
   "metadata": {},
   "outputs": [
    {
     "name": "stdout",
     "output_type": "stream",
     "text": [
      "[Level2_KINX_20200903_1800.ar2v, Level2_KINX_20200903_1752.ar2v, Level2_KINX_20200903_1743.ar2v, Level2_KINX_20200903_1737.ar2v, Level2_KINX_20200903_1732.ar2v, Level2_KINX_20200903_1723.ar2v, Level2_KINX_20200903_1718.ar2v, Level2_KINX_20200903_1416.ar2v, Level2_KINX_20200903_1407.ar2v, Level2_KINX_20200903_1358.ar2v, Level2_KINX_20200903_1349.ar2v, Level2_KINX_20200903_1341.ar2v, Level2_KINX_20200903_1332.ar2v, Level2_KINX_20200903_1323.ar2v, Level2_KINX_20200903_1314.ar2v, Level2_KINX_20200903_1306.ar2v, Level2_KINX_20200903_1257.ar2v, Level2_KINX_20200903_1248.ar2v, Level2_KINX_20200903_1239.ar2v, Level2_KINX_20200903_1231.ar2v, Level2_KINX_20200903_1222.ar2v, Level2_KINX_20200903_1213.ar2v, Level2_KINX_20200903_1204.ar2v]\n"
     ]
    }
   ],
   "source": [
    "# %load solutions/datasets.py\n",
    "\n",
    "# Cell content replaced by load magic replacement.\n",
    "# Solution from above in case you had trouble\n",
    "date = datetime.utcnow() - timedelta(days=1)\n",
    "cat = TDSCatalog(f'https://thredds.ucar.edu/thredds/catalog/nexrad/level2/KINX/{date:%Y%m%d}/catalog.xml')\n",
    "request_time = date.replace(hour=12, minute=0, second=0, microsecond=0)\n",
    "datasets = cat.datasets.filter_time_range(request_time, request_time + timedelta(hours=6))\n",
    "print(datasets)\n"
   ]
  },
  {
   "cell_type": "markdown",
   "metadata": {},
   "source": [
    "<a href=\"#top\">Top</a>\n",
    "<hr style=\"height:2px;\">"
   ]
  },
  {
   "cell_type": "markdown",
   "metadata": {},
   "source": [
    "<a name=\"dataaccess\"></a>\n",
    "## 3. Use Siphon to Perform Remote Data Access\n",
    "\n",
    "Accessing catalogs is only part of the story; Siphon is much more useful if you're trying to access/download datasets.\n",
    "\n",
    "For instance, using our data that we just retrieved:"
   ]
  },
  {
   "cell_type": "code",
   "execution_count": 9,
   "metadata": {},
   "outputs": [],
   "source": [
    "# Solution from above in case you had trouble\n",
    "date = datetime.utcnow() - timedelta(days=1)\n",
    "cat = TDSCatalog(f'https://thredds.ucar.edu/thredds/catalog/nexrad/level2/KINX/{date:%Y%m%d}/catalog.xml')\n",
    "request_time = date.replace(hour=12, minute=0, second=0, microsecond=0)\n",
    "datasets = cat.datasets.filter_time_range(request_time, request_time + timedelta(hours=6))"
   ]
  },
  {
   "cell_type": "code",
   "execution_count": 10,
   "metadata": {},
   "outputs": [],
   "source": [
    "ds = datasets[0]"
   ]
  },
  {
   "cell_type": "markdown",
   "metadata": {
    "slideshow": {
     "slide_type": "fragment"
    }
   },
   "source": [
    "We can ask Siphon to download the file locally:"
   ]
  },
  {
   "cell_type": "code",
   "execution_count": 11,
   "metadata": {},
   "outputs": [],
   "source": [
    "ds.download()"
   ]
  },
  {
   "cell_type": "markdown",
   "metadata": {},
   "source": [
    "Look in your file explorer panel or run the cell below to verify that we did actually download the file!"
   ]
  },
  {
   "cell_type": "code",
   "execution_count": 12,
   "metadata": {},
   "outputs": [
    {
     "data": {
      "text/plain": [
       "['Level2_KINX_20200903_1800.ar2v', 'solutions', 'Siphon Overview.ipynb']"
      ]
     },
     "execution_count": 12,
     "metadata": {},
     "output_type": "execute_result"
    }
   ],
   "source": [
    "import os; os.listdir()"
   ]
  },
  {
   "cell_type": "markdown",
   "metadata": {
    "slideshow": {
     "slide_type": "subslide"
    }
   },
   "source": [
    "Or better yet, get a file-like object that lets us `read` from the file as if it were local:"
   ]
  },
  {
   "cell_type": "code",
   "execution_count": 13,
   "metadata": {},
   "outputs": [
    {
     "name": "stdout",
     "output_type": "stream",
     "text": [
      "11870695\n"
     ]
    }
   ],
   "source": [
    "fobj = ds.remote_open()\n",
    "data = fobj.read()\n",
    "print(len(data))"
   ]
  },
  {
   "cell_type": "markdown",
   "metadata": {},
   "source": [
    "This is handy if you have Python code to read a particular format."
   ]
  },
  {
   "cell_type": "markdown",
   "metadata": {
    "slideshow": {
     "slide_type": "subslide"
    }
   },
   "source": [
    "It's also possible to get access to the file through services that provide netCDF4-like access, but for the remote file. This access allows downloading information only for variables of interest, or for (index-based) subsets of that data:"
   ]
  },
  {
   "cell_type": "code",
   "execution_count": 14,
   "metadata": {},
   "outputs": [],
   "source": [
    "nc = ds.remote_access()"
   ]
  },
  {
   "cell_type": "markdown",
   "metadata": {},
   "source": [
    "By default this uses CDMRemote (if available), but it's also possible to ask for OPeNDAP (using netCDF4-python). There is even XArray support which is great with the declarative plotting interface - more on that later."
   ]
  },
  {
   "cell_type": "code",
   "execution_count": 15,
   "metadata": {},
   "outputs": [
    {
     "name": "stdout",
     "output_type": "stream",
     "text": [
      "['Reflectivity_HI', 'timeR_HI', 'elevationR_HI', 'azimuthR_HI', 'distanceR_HI', 'numRadialsR_HI', 'numGatesR_HI', 'Reflectivity', 'timeR', 'elevationR', 'azimuthR', 'distanceR', 'numRadialsR', 'numGatesR', 'RadialVelocity_HI', 'timeV_HI', 'elevationV_HI', 'azimuthV_HI', 'distanceV_HI', 'numRadialsV_HI', 'numGatesV_HI', 'RadialVelocity', 'timeV', 'elevationV', 'azimuthV', 'distanceV', 'numRadialsV', 'numGatesV', 'SpectrumWidth_HI', 'SpectrumWidth', 'DifferentialReflectivity_HI', 'timeD_HI', 'elevationD_HI', 'azimuthD_HI', 'distanceD_HI', 'numRadialsD_HI', 'numGatesD_HI', 'DifferentialReflectivity', 'timeD', 'elevationD', 'azimuthD', 'distanceD', 'numRadialsD', 'numGatesD', 'CorrelationCoefficient_HI', 'timeC_HI', 'elevationC_HI', 'azimuthC_HI', 'distanceC_HI', 'numRadialsC_HI', 'numGatesC_HI', 'CorrelationCoefficient', 'timeC', 'elevationC', 'azimuthC', 'distanceC', 'numRadialsC', 'numGatesC', 'DifferentialPhase_HI', 'timeP_HI', 'elevationP_HI', 'azimuthP_HI', 'distanceP_HI', 'numRadialsP_HI', 'numGatesP_HI', 'DifferentialPhase', 'timeP', 'elevationP', 'azimuthP', 'distanceP', 'numRadialsP', 'numGatesP']\n"
     ]
    }
   ],
   "source": [
    "print(list(nc.variables))"
   ]
  },
  {
   "cell_type": "markdown",
   "metadata": {},
   "source": [
    "<a href=\"#top\">Top</a>\n",
    "<hr style=\"height:2px;\">"
   ]
  }
 ],
 "metadata": {
  "kernelspec": {
   "display_name": "Python 3",
   "language": "python",
   "name": "python3"
  },
  "language_info": {
   "codemirror_mode": {
    "name": "ipython",
    "version": 3
   },
   "file_extension": ".py",
   "mimetype": "text/x-python",
   "name": "python",
   "nbconvert_exporter": "python",
   "pygments_lexer": "ipython3",
   "version": "3.7.8"
  }
 },
 "nbformat": 4,
 "nbformat_minor": 4
}
