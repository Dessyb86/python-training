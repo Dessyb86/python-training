{
 "cells": [
  {
   "cell_type": "markdown",
   "metadata": {},
   "source": [
    "<a name=\"top\"></a>\n",
    "<div style=\"width:1000 px\">\n",
    "\n",
    "<div style=\"float:right; width:98 px; height:98px;\">\n",
    "<img src=\"https://raw.githubusercontent.com/Unidata/MetPy/master/src/metpy/plots/_static/unidata_150x150.png\" alt=\"Unidata Logo\" style=\"height: 98px;\">\n",
    "</div>\n",
    "\n",
    "<h1>Siphon Overview</h1>\n",
    "<h3>Unidata Python Workshop</h3>\n",
    "\n",
    "<div style=\"clear:both\"></div>\n",
    "</div>\n",
    "\n",
    "<hr style=\"height:2px;\">\n",
    "\n",
    "<div style=\"float:right; width:250 px\"><img src=\"https://unidata.github.io/siphon/latest/_static/siphon_150x150.png\" alt=\"TDS\" style=\"height: 200px;\"></div>\n",
    "\n",
    "### Questions\n",
    "1. What is a THREDDS Data Server (TDS)?\n",
    "1. How can I use Siphon to access a TDS?\n",
    "\n",
    "### Objectives\n",
    "1. <a href=\"#threddsintro\">Use Siphon to Access a THREDDS Catalog</a>\n",
    "1. <a href=\"#filtering\">Filtering Data</a>\n",
    "1. <a href=\"#dataaccess\">Use Siphon to Perform Remote Data Access</a>"
   ]
  },
  {
   "cell_type": "markdown",
   "metadata": {},
   "source": [
    "<a name=\"threddsintro\"></a>\n",
    "## 1. Use Siphon to Access a THREDDS Catalog\n",
    "\n",
    "THREDDS is a server for providing remote access to datasets and a variety of server-side services. THREDDS make data access more uniform regardless of the on-disk format.\n",
    " * Data Access Services:\n",
    "   - HTTP Download\n",
    "   - Web Mapping/Coverage Service (WMS/WCS)\n",
    "   - OPeNDAP\n",
    "   - NetCDF Subset Service\n",
    "   - CDMRemote\n",
    "   \n",
    "There is a server with real-time data setup at [http://thredds.ucar.edu](http://thredds.ucar.edu) that we'll use to explore the capability of THREDDS and learn how to access data. Let's open that link and explore in the browser what's available on THREDDS. Explore the NEXRAD level 3 data specifically.\n",
    "\n",
    "### THREDDS Catalogs\n",
    "- XML descriptions of data and metadata\n",
    "- Access methods\n",
    "- Easily processed with `siphon.catalog.TDSCatalog`"
   ]
  },
  {
   "cell_type": "code",
   "execution_count": 1,
   "metadata": {},
   "outputs": [],
   "source": [
    "from datetime import datetime, timedelta\n",
    "\n",
    "from siphon.catalog import TDSCatalog"
   ]
  },
  {
   "cell_type": "markdown",
   "metadata": {},
   "source": [
    "Let's get data from yesterday at this time. We'll use the timedelta object to do this in an easy way."
   ]
  },
  {
   "cell_type": "code",
   "execution_count": 2,
   "metadata": {},
   "outputs": [
    {
     "name": "stdout",
     "output_type": "stream",
     "text": [
      "2020-08-27 15:35:57.842955\n"
     ]
    }
   ],
   "source": [
    "date = datetime.utcnow() - timedelta(days=1)\n",
    "print(date)"
   ]
  },
  {
   "cell_type": "markdown",
   "metadata": {},
   "source": [
    "We'll then go find the URL for the level 3 radar data. Let's get the N0Q (tilt 1 base reflectivity) for the LRX radar. Notice that we change the `html` extension to `xml`. Siphon will do that for us, but issue a warning."
   ]
  },
  {
   "cell_type": "code",
   "execution_count": 3,
   "metadata": {},
   "outputs": [],
   "source": [
    "cat = TDSCatalog('http://thredds.ucar.edu/thredds/catalog/nexrad/level3/'\n",
    "                 f'N0Q/LRX/{date:%Y%m%d}/catalog.xml')"
   ]
  },
  {
   "cell_type": "code",
   "execution_count": 4,
   "metadata": {},
   "outputs": [
    {
     "data": {
      "text/plain": [
       "['Level3_LRX_N0Q_20200827_2357.nids', 'Level3_LRX_N0Q_20200827_2355.nids', 'Level3_LRX_N0Q_20200827_2352.nids', 'Level3_LRX_N0Q_20200827_2350.nids', 'Level3_LRX_N0Q_20200827_2347.nids', 'Level3_LRX_N0Q_20200827_2344.nids', 'Level3_LRX_N0Q_20200827_2341.nids', 'Level3_LRX_N0Q_20200827_2339.nids', 'Level3_LRX_N0Q_20200827_2336.nids', 'Level3_LRX_N0Q_20200827_2334.nids', 'Level3_LRX_N0Q_20200827_2331.nids', 'Level3_LRX_N0Q_20200827_2328.nids', 'Level3_LRX_N0Q_20200827_2326.nids', 'Level3_LRX_N0Q_20200827_2323.nids', 'Level3_LRX_N0Q_20200827_2320.nids', 'Level3_LRX_N0Q_20200827_2318.nids', 'Level3_LRX_N0Q_20200827_2315.nids', 'Level3_LRX_N0Q_20200827_2313.nids', 'Level3_LRX_N0Q_20200827_2310.nids', 'Level3_LRX_N0Q_20200827_2307.nids', 'Level3_LRX_N0Q_20200827_2305.nids', 'Level3_LRX_N0Q_20200827_2302.nids', 'Level3_LRX_N0Q_20200827_2259.nids', 'Level3_LRX_N0Q_20200827_2257.nids', 'Level3_LRX_N0Q_20200827_2254.nids', 'Level3_LRX_N0Q_20200827_2251.nids', 'Level3_LRX_N0Q_20200827_2248.nids', 'Level3_LRX_N0Q_20200827_2246.nids', 'Level3_LRX_N0Q_20200827_2243.nids', 'Level3_LRX_N0Q_20200827_2241.nids', 'Level3_LRX_N0Q_20200827_2238.nids', 'Level3_LRX_N0Q_20200827_2236.nids', 'Level3_LRX_N0Q_20200827_2233.nids', 'Level3_LRX_N0Q_20200827_2230.nids', 'Level3_LRX_N0Q_20200827_2227.nids', 'Level3_LRX_N0Q_20200827_2225.nids', 'Level3_LRX_N0Q_20200827_2222.nids', 'Level3_LRX_N0Q_20200827_2220.nids', 'Level3_LRX_N0Q_20200827_2217.nids', 'Level3_LRX_N0Q_20200827_2214.nids', 'Level3_LRX_N0Q_20200827_2209.nids', 'Level3_LRX_N0Q_20200827_2207.nids', 'Level3_LRX_N0Q_20200827_2204.nids', 'Level3_LRX_N0Q_20200827_2202.nids', 'Level3_LRX_N0Q_20200827_2159.nids', 'Level3_LRX_N0Q_20200827_2156.nids', 'Level3_LRX_N0Q_20200827_2154.nids', 'Level3_LRX_N0Q_20200827_2151.nids', 'Level3_LRX_N0Q_20200827_2148.nids', 'Level3_LRX_N0Q_20200827_2145.nids', 'Level3_LRX_N0Q_20200827_2143.nids', 'Level3_LRX_N0Q_20200827_2140.nids', 'Level3_LRX_N0Q_20200827_2137.nids', 'Level3_LRX_N0Q_20200827_2135.nids', 'Level3_LRX_N0Q_20200827_2132.nids', 'Level3_LRX_N0Q_20200827_2129.nids', 'Level3_LRX_N0Q_20200827_2128.nids', 'Level3_LRX_N0Q_20200827_2124.nids', 'Level3_LRX_N0Q_20200827_2114.nids', 'Level3_LRX_N0Q_20200827_2105.nids', 'Level3_LRX_N0Q_20200827_2055.nids', 'Level3_LRX_N0Q_20200827_2046.nids', 'Level3_LRX_N0Q_20200827_2036.nids', 'Level3_LRX_N0Q_20200827_2026.nids', 'Level3_LRX_N0Q_20200827_2017.nids', 'Level3_LRX_N0Q_20200827_2007.nids', 'Level3_LRX_N0Q_20200827_1958.nids', 'Level3_LRX_N0Q_20200827_1948.nids', 'Level3_LRX_N0Q_20200827_1938.nids', 'Level3_LRX_N0Q_20200827_1929.nids', 'Level3_LRX_N0Q_20200827_1919.nids', 'Level3_LRX_N0Q_20200827_1910.nids', 'Level3_LRX_N0Q_20200827_1900.nids', 'Level3_LRX_N0Q_20200827_1850.nids', 'Level3_LRX_N0Q_20200827_1841.nids', 'Level3_LRX_N0Q_20200827_1831.nids', 'Level3_LRX_N0Q_20200827_1822.nids', 'Level3_LRX_N0Q_20200827_1812.nids', 'Level3_LRX_N0Q_20200827_1802.nids', 'Level3_LRX_N0Q_20200827_1753.nids', 'Level3_LRX_N0Q_20200827_1743.nids', 'Level3_LRX_N0Q_20200827_1734.nids', 'Level3_LRX_N0Q_20200827_1724.nids', 'Level3_LRX_N0Q_20200827_1714.nids', 'Level3_LRX_N0Q_20200827_1705.nids', 'Level3_LRX_N0Q_20200827_1655.nids', 'Level3_LRX_N0Q_20200827_1645.nids', 'Level3_LRX_N0Q_20200827_1636.nids', 'Level3_LRX_N0Q_20200827_1626.nids', 'Level3_LRX_N0Q_20200827_1617.nids', 'Level3_LRX_N0Q_20200827_1607.nids', 'Level3_LRX_N0Q_20200827_1557.nids', 'Level3_LRX_N0Q_20200827_1548.nids', 'Level3_LRX_N0Q_20200827_1538.nids', 'Level3_LRX_N0Q_20200827_1529.nids', 'Level3_LRX_N0Q_20200827_1519.nids', 'Level3_LRX_N0Q_20200827_1509.nids', 'Level3_LRX_N0Q_20200827_1500.nids', 'Level3_LRX_N0Q_20200827_1450.nids', 'Level3_LRX_N0Q_20200827_1441.nids', 'Level3_LRX_N0Q_20200827_1431.nids', 'Level3_LRX_N0Q_20200827_1421.nids', 'Level3_LRX_N0Q_20200827_1412.nids', 'Level3_LRX_N0Q_20200827_1400.nids', 'Level3_LRX_N0Q_20200827_1350.nids', 'Level3_LRX_N0Q_20200827_1341.nids', 'Level3_LRX_N0Q_20200827_1331.nids', 'Level3_LRX_N0Q_20200827_1322.nids', 'Level3_LRX_N0Q_20200827_1312.nids', 'Level3_LRX_N0Q_20200827_1302.nids', 'Level3_LRX_N0Q_20200827_1253.nids', 'Level3_LRX_N0Q_20200827_1243.nids', 'Level3_LRX_N0Q_20200827_1234.nids', 'Level3_LRX_N0Q_20200827_1224.nids', 'Level3_LRX_N0Q_20200827_1214.nids', 'Level3_LRX_N0Q_20200827_1205.nids', 'Level3_LRX_N0Q_20200827_1155.nids', 'Level3_LRX_N0Q_20200827_1146.nids', 'Level3_LRX_N0Q_20200827_1136.nids', 'Level3_LRX_N0Q_20200827_1126.nids', 'Level3_LRX_N0Q_20200827_1117.nids', 'Level3_LRX_N0Q_20200827_1107.nids', 'Level3_LRX_N0Q_20200827_1058.nids', 'Level3_LRX_N0Q_20200827_1048.nids', 'Level3_LRX_N0Q_20200827_1038.nids', 'Level3_LRX_N0Q_20200827_1029.nids', 'Level3_LRX_N0Q_20200827_1019.nids', 'Level3_LRX_N0Q_20200827_1010.nids', 'Level3_LRX_N0Q_20200827_1000.nids', 'Level3_LRX_N0Q_20200827_0950.nids', 'Level3_LRX_N0Q_20200827_0941.nids', 'Level3_LRX_N0Q_20200827_0931.nids', 'Level3_LRX_N0Q_20200827_0921.nids', 'Level3_LRX_N0Q_20200827_0912.nids', 'Level3_LRX_N0Q_20200827_0902.nids', 'Level3_LRX_N0Q_20200827_0853.nids', 'Level3_LRX_N0Q_20200827_0843.nids', 'Level3_LRX_N0Q_20200827_0833.nids', 'Level3_LRX_N0Q_20200827_0824.nids', 'Level3_LRX_N0Q_20200827_0814.nids', 'Level3_LRX_N0Q_20200827_0805.nids', 'Level3_LRX_N0Q_20200827_0755.nids', 'Level3_LRX_N0Q_20200827_0745.nids', 'Level3_LRX_N0Q_20200827_0736.nids', 'Level3_LRX_N0Q_20200827_0726.nids', 'Level3_LRX_N0Q_20200827_0717.nids', 'Level3_LRX_N0Q_20200827_0707.nids', 'Level3_LRX_N0Q_20200827_0657.nids', 'Level3_LRX_N0Q_20200827_0648.nids', 'Level3_LRX_N0Q_20200827_0638.nids', 'Level3_LRX_N0Q_20200827_0629.nids', 'Level3_LRX_N0Q_20200827_0619.nids', 'Level3_LRX_N0Q_20200827_0609.nids', 'Level3_LRX_N0Q_20200827_0558.nids', 'Level3_LRX_N0Q_20200827_0548.nids', 'Level3_LRX_N0Q_20200827_0539.nids', 'Level3_LRX_N0Q_20200827_0529.nids', 'Level3_LRX_N0Q_20200827_0519.nids', 'Level3_LRX_N0Q_20200827_0510.nids', 'Level3_LRX_N0Q_20200827_0500.nids', 'Level3_LRX_N0Q_20200827_0451.nids', 'Level3_LRX_N0Q_20200827_0441.nids', 'Level3_LRX_N0Q_20200827_0431.nids', 'Level3_LRX_N0Q_20200827_0422.nids', 'Level3_LRX_N0Q_20200827_0412.nids', 'Level3_LRX_N0Q_20200827_0403.nids', 'Level3_LRX_N0Q_20200827_0353.nids', 'Level3_LRX_N0Q_20200827_0351.nids', 'Level3_LRX_N0Q_20200827_0350.nids', 'Level3_LRX_N0Q_20200827_0349.nids', 'Level3_LRX_N0Q_20200827_0347.nids', 'Level3_LRX_N0Q_20200827_0346.nids', 'Level3_LRX_N0Q_20200827_0345.nids', 'Level3_LRX_N0Q_20200827_0343.nids', 'Level3_LRX_N0Q_20200827_0342.nids', 'Level3_LRX_N0Q_20200827_0341.nids', 'Level3_LRX_N0Q_20200827_0339.nids', 'Level3_LRX_N0Q_20200827_0338.nids', 'Level3_LRX_N0Q_20200827_0337.nids', 'Level3_LRX_N0Q_20200827_0335.nids', 'Level3_LRX_N0Q_20200827_0334.nids', 'Level3_LRX_N0Q_20200827_0333.nids', 'Level3_LRX_N0Q_20200827_0331.nids', 'Level3_LRX_N0Q_20200827_0330.nids', 'Level3_LRX_N0Q_20200827_0329.nids', 'Level3_LRX_N0Q_20200827_0327.nids', 'Level3_LRX_N0Q_20200827_0326.nids', 'Level3_LRX_N0Q_20200827_0325.nids', 'Level3_LRX_N0Q_20200827_0323.nids', 'Level3_LRX_N0Q_20200827_0322.nids', 'Level3_LRX_N0Q_20200827_0321.nids', 'Level3_LRX_N0Q_20200827_0319.nids', 'Level3_LRX_N0Q_20200827_0318.nids', 'Level3_LRX_N0Q_20200827_0317.nids', 'Level3_LRX_N0Q_20200827_0316.nids', 'Level3_LRX_N0Q_20200827_0314.nids', 'Level3_LRX_N0Q_20200827_0313.nids', 'Level3_LRX_N0Q_20200827_0312.nids', 'Level3_LRX_N0Q_20200827_0310.nids', 'Level3_LRX_N0Q_20200827_0309.nids', 'Level3_LRX_N0Q_20200827_0308.nids', 'Level3_LRX_N0Q_20200827_0306.nids', 'Level3_LRX_N0Q_20200827_0305.nids', 'Level3_LRX_N0Q_20200827_0304.nids', 'Level3_LRX_N0Q_20200827_0302.nids', 'Level3_LRX_N0Q_20200827_0301.nids', 'Level3_LRX_N0Q_20200827_0300.nids', 'Level3_LRX_N0Q_20200827_0258.nids', 'Level3_LRX_N0Q_20200827_0257.nids', 'Level3_LRX_N0Q_20200827_0256.nids', 'Level3_LRX_N0Q_20200827_0255.nids', 'Level3_LRX_N0Q_20200827_0253.nids', 'Level3_LRX_N0Q_20200827_0252.nids', 'Level3_LRX_N0Q_20200827_0250.nids', 'Level3_LRX_N0Q_20200827_0249.nids', 'Level3_LRX_N0Q_20200827_0248.nids', 'Level3_LRX_N0Q_20200827_0246.nids', 'Level3_LRX_N0Q_20200827_0245.nids', 'Level3_LRX_N0Q_20200827_0244.nids', 'Level3_LRX_N0Q_20200827_0243.nids', 'Level3_LRX_N0Q_20200827_0241.nids', 'Level3_LRX_N0Q_20200827_0240.nids', 'Level3_LRX_N0Q_20200827_0239.nids', 'Level3_LRX_N0Q_20200827_0237.nids', 'Level3_LRX_N0Q_20200827_0236.nids', 'Level3_LRX_N0Q_20200827_0235.nids', 'Level3_LRX_N0Q_20200827_0233.nids', 'Level3_LRX_N0Q_20200827_0232.nids', 'Level3_LRX_N0Q_20200827_0231.nids', 'Level3_LRX_N0Q_20200827_0229.nids', 'Level3_LRX_N0Q_20200827_0228.nids', 'Level3_LRX_N0Q_20200827_0226.nids', 'Level3_LRX_N0Q_20200827_0225.nids', 'Level3_LRX_N0Q_20200827_0224.nids', 'Level3_LRX_N0Q_20200827_0222.nids', 'Level3_LRX_N0Q_20200827_0221.nids', 'Level3_LRX_N0Q_20200827_0219.nids', 'Level3_LRX_N0Q_20200827_0218.nids', 'Level3_LRX_N0Q_20200827_0217.nids', 'Level3_LRX_N0Q_20200827_0215.nids', 'Level3_LRX_N0Q_20200827_0214.nids', 'Level3_LRX_N0Q_20200827_0212.nids', 'Level3_LRX_N0Q_20200827_0211.nids', 'Level3_LRX_N0Q_20200827_0209.nids', 'Level3_LRX_N0Q_20200827_0208.nids', 'Level3_LRX_N0Q_20200827_0207.nids', 'Level3_LRX_N0Q_20200827_0205.nids', 'Level3_LRX_N0Q_20200827_0204.nids', 'Level3_LRX_N0Q_20200827_0202.nids', 'Level3_LRX_N0Q_20200827_0201.nids', 'Level3_LRX_N0Q_20200827_0200.nids', 'Level3_LRX_N0Q_20200827_0158.nids', 'Level3_LRX_N0Q_20200827_0157.nids', 'Level3_LRX_N0Q_20200827_0156.nids', 'Level3_LRX_N0Q_20200827_0154.nids', 'Level3_LRX_N0Q_20200827_0153.nids', 'Level3_LRX_N0Q_20200827_0151.nids', 'Level3_LRX_N0Q_20200827_0150.nids', 'Level3_LRX_N0Q_20200827_0149.nids', 'Level3_LRX_N0Q_20200827_0147.nids', 'Level3_LRX_N0Q_20200827_0146.nids', 'Level3_LRX_N0Q_20200827_0144.nids', 'Level3_LRX_N0Q_20200827_0143.nids', 'Level3_LRX_N0Q_20200827_0141.nids', 'Level3_LRX_N0Q_20200827_0140.nids', 'Level3_LRX_N0Q_20200827_0139.nids', 'Level3_LRX_N0Q_20200827_0137.nids', 'Level3_LRX_N0Q_20200827_0136.nids', 'Level3_LRX_N0Q_20200827_0134.nids', 'Level3_LRX_N0Q_20200827_0133.nids', 'Level3_LRX_N0Q_20200827_0132.nids', 'Level3_LRX_N0Q_20200827_0130.nids', 'Level3_LRX_N0Q_20200827_0129.nids', 'Level3_LRX_N0Q_20200827_0127.nids', 'Level3_LRX_N0Q_20200827_0126.nids', 'Level3_LRX_N0Q_20200827_0124.nids', 'Level3_LRX_N0Q_20200827_0123.nids', 'Level3_LRX_N0Q_20200827_0121.nids', 'Level3_LRX_N0Q_20200827_0120.nids', 'Level3_LRX_N0Q_20200827_0118.nids', 'Level3_LRX_N0Q_20200827_0117.nids', 'Level3_LRX_N0Q_20200827_0116.nids', 'Level3_LRX_N0Q_20200827_0114.nids', 'Level3_LRX_N0Q_20200827_0113.nids', 'Level3_LRX_N0Q_20200827_0111.nids', 'Level3_LRX_N0Q_20200827_0110.nids', 'Level3_LRX_N0Q_20200827_0108.nids', 'Level3_LRX_N0Q_20200827_0107.nids', 'Level3_LRX_N0Q_20200827_0105.nids', 'Level3_LRX_N0Q_20200827_0104.nids', 'Level3_LRX_N0Q_20200827_0102.nids', 'Level3_LRX_N0Q_20200827_0101.nids', 'Level3_LRX_N0Q_20200827_0100.nids', 'Level3_LRX_N0Q_20200827_0058.nids', 'Level3_LRX_N0Q_20200827_0057.nids', 'Level3_LRX_N0Q_20200827_0055.nids', 'Level3_LRX_N0Q_20200827_0054.nids', 'Level3_LRX_N0Q_20200827_0053.nids', 'Level3_LRX_N0Q_20200827_0051.nids', 'Level3_LRX_N0Q_20200827_0050.nids', 'Level3_LRX_N0Q_20200827_0048.nids', 'Level3_LRX_N0Q_20200827_0047.nids', 'Level3_LRX_N0Q_20200827_0046.nids', 'Level3_LRX_N0Q_20200827_0044.nids', 'Level3_LRX_N0Q_20200827_0043.nids', 'Level3_LRX_N0Q_20200827_0041.nids', 'Level3_LRX_N0Q_20200827_0040.nids', 'Level3_LRX_N0Q_20200827_0039.nids', 'Level3_LRX_N0Q_20200827_0037.nids', 'Level3_LRX_N0Q_20200827_0036.nids', 'Level3_LRX_N0Q_20200827_0035.nids', 'Level3_LRX_N0Q_20200827_0033.nids', 'Level3_LRX_N0Q_20200827_0032.nids', 'Level3_LRX_N0Q_20200827_0031.nids', 'Level3_LRX_N0Q_20200827_0030.nids', 'Level3_LRX_N0Q_20200827_0028.nids', 'Level3_LRX_N0Q_20200827_0027.nids', 'Level3_LRX_N0Q_20200827_0026.nids', 'Level3_LRX_N0Q_20200827_0025.nids', 'Level3_LRX_N0Q_20200827_0023.nids', 'Level3_LRX_N0Q_20200827_0022.nids', 'Level3_LRX_N0Q_20200827_0021.nids', 'Level3_LRX_N0Q_20200827_0020.nids', 'Level3_LRX_N0Q_20200827_0018.nids', 'Level3_LRX_N0Q_20200827_0017.nids', 'Level3_LRX_N0Q_20200827_0016.nids', 'Level3_LRX_N0Q_20200827_0014.nids', 'Level3_LRX_N0Q_20200827_0013.nids', 'Level3_LRX_N0Q_20200827_0012.nids', 'Level3_LRX_N0Q_20200827_0010.nids', 'Level3_LRX_N0Q_20200827_0009.nids', 'Level3_LRX_N0Q_20200827_0008.nids', 'Level3_LRX_N0Q_20200827_0006.nids', 'Level3_LRX_N0Q_20200827_0005.nids', 'Level3_LRX_N0Q_20200827_0004.nids', 'Level3_LRX_N0Q_20200827_0002.nids', 'Level3_LRX_N0Q_20200827_0001.nids', 'Level3_LRX_N0Q_20200827_0000.nids']"
      ]
     },
     "execution_count": 4,
     "metadata": {},
     "output_type": "execute_result"
    }
   ],
   "source": [
    "cat.datasets"
   ]
  },
  {
   "cell_type": "markdown",
   "metadata": {},
   "source": [
    "<a href=\"#top\">Top</a>\n",
    "<hr style=\"height:2px;\">"
   ]
  },
  {
   "cell_type": "markdown",
   "metadata": {},
   "source": [
    "<a name=\"filtering\"></a>\n",
    "## 2. Filtering Data"
   ]
  },
  {
   "cell_type": "markdown",
   "metadata": {},
   "source": [
    "We *could* manually look through that list above and figure out what dataset we're looking for and generate that name (or index). Siphon provides some helpers to simplify this process, provided the names of the dataset follow a pattern with the timestamp in the name:"
   ]
  },
  {
   "cell_type": "code",
   "execution_count": 5,
   "metadata": {},
   "outputs": [
    {
     "data": {
      "text/plain": [
       "Level3_LRX_N0Q_20200827_1831.nids"
      ]
     },
     "execution_count": 5,
     "metadata": {},
     "output_type": "execute_result"
    }
   ],
   "source": [
    "request_time = date.replace(hour=18, minute=30, second=0, microsecond=0)\n",
    "ds = cat.datasets.filter_time_nearest(request_time)\n",
    "ds"
   ]
  },
  {
   "cell_type": "markdown",
   "metadata": {},
   "source": [
    "We can also find the list of datasets within a time range:"
   ]
  },
  {
   "cell_type": "code",
   "execution_count": 6,
   "metadata": {},
   "outputs": [
    {
     "name": "stdout",
     "output_type": "stream",
     "text": [
      "[Level3_LRX_N0Q_20200827_1929.nids, Level3_LRX_N0Q_20200827_1919.nids, Level3_LRX_N0Q_20200827_1910.nids, Level3_LRX_N0Q_20200827_1900.nids, Level3_LRX_N0Q_20200827_1850.nids, Level3_LRX_N0Q_20200827_1841.nids, Level3_LRX_N0Q_20200827_1831.nids]\n"
     ]
    }
   ],
   "source": [
    "datasets = cat.datasets.filter_time_range(request_time, request_time + timedelta(hours=1))\n",
    "print(datasets)"
   ]
  },
  {
   "cell_type": "markdown",
   "metadata": {},
   "source": [
    "<div class=\"alert alert-success\">\n",
    "    <b>EXERCISE</b>:\n",
    "     <ul>\n",
    "        <li>Starting from http://thredds.ucar.edu/, find the level 2 radar data for the Tulsa, OK radar (KINX) for the previous day.</li>\n",
    "        <li>Grab the URL and create a TDSCatalog instance.</li>\n",
    "        <li>Using Siphon, find the data available in the catalog between 12Z and 18Z on the previous day.</li>\n",
    "    </ul>\n",
    "</div>"
   ]
  },
  {
   "cell_type": "code",
   "execution_count": 7,
   "metadata": {},
   "outputs": [],
   "source": [
    "# YOUR CODE GOES HERE"
   ]
  },
  {
   "cell_type": "markdown",
   "metadata": {},
   "source": [
    "<div class=\"alert alert-info\">\n",
    "    <b>SOLUTION</b>\n",
    "</div>"
   ]
  },
  {
   "cell_type": "code",
   "execution_count": 8,
   "metadata": {},
   "outputs": [
    {
     "name": "stdout",
     "output_type": "stream",
     "text": [
      "[Level2_KINX_20200827_1756.ar2v, Level2_KINX_20200827_1749.ar2v, Level2_KINX_20200827_1742.ar2v, Level2_KINX_20200827_1736.ar2v, Level2_KINX_20200827_1729.ar2v, Level2_KINX_20200827_1722.ar2v, Level2_KINX_20200827_1715.ar2v, Level2_KINX_20200827_1709.ar2v, Level2_KINX_20200827_1701.ar2v, Level2_KINX_20200827_1655.ar2v, Level2_KINX_20200827_1649.ar2v, Level2_KINX_20200827_1642.ar2v, Level2_KINX_20200827_1635.ar2v, Level2_KINX_20200827_1628.ar2v, Level2_KINX_20200827_1622.ar2v, Level2_KINX_20200827_1615.ar2v, Level2_KINX_20200827_1609.ar2v, Level2_KINX_20200827_1603.ar2v, Level2_KINX_20200827_1557.ar2v, Level2_KINX_20200827_1541.ar2v, Level2_KINX_20200827_1535.ar2v, Level2_KINX_20200827_1528.ar2v, Level2_KINX_20200827_1522.ar2v, Level2_KINX_20200827_1515.ar2v, Level2_KINX_20200827_1508.ar2v, Level2_KINX_20200827_1502.ar2v, Level2_KINX_20200827_1455.ar2v, Level2_KINX_20200827_1448.ar2v, Level2_KINX_20200827_1441.ar2v, Level2_KINX_20200827_1434.ar2v, Level2_KINX_20200827_1427.ar2v, Level2_KINX_20200827_1420.ar2v, Level2_KINX_20200827_1413.ar2v, Level2_KINX_20200827_1406.ar2v, Level2_KINX_20200827_1401.ar2v, Level2_KINX_20200827_1355.ar2v, Level2_KINX_20200827_1349.ar2v, Level2_KINX_20200827_1343.ar2v, Level2_KINX_20200827_1337.ar2v, Level2_KINX_20200827_1331.ar2v, Level2_KINX_20200827_1326.ar2v, Level2_KINX_20200827_1320.ar2v, Level2_KINX_20200827_1314.ar2v, Level2_KINX_20200827_1309.ar2v, Level2_KINX_20200827_1304.ar2v, Level2_KINX_20200827_1259.ar2v, Level2_KINX_20200827_1253.ar2v, Level2_KINX_20200827_1248.ar2v, Level2_KINX_20200827_1242.ar2v, Level2_KINX_20200827_1237.ar2v, Level2_KINX_20200827_1232.ar2v, Level2_KINX_20200827_1226.ar2v, Level2_KINX_20200827_1221.ar2v, Level2_KINX_20200827_1215.ar2v, Level2_KINX_20200827_1209.ar2v, Level2_KINX_20200827_1204.ar2v]\n"
     ]
    }
   ],
   "source": [
    "# %load solutions/datasets.py\n",
    "\n",
    "# Cell content replaced by load magic replacement.\n",
    "# Solution from above in case you had trouble\n",
    "date = datetime.utcnow() - timedelta(days=1)\n",
    "cat = TDSCatalog(f'https://thredds.ucar.edu/thredds/catalog/nexrad/level2/KINX/{date:%Y%m%d}/catalog.xml')\n",
    "request_time = date.replace(hour=12, minute=0, second=0, microsecond=0)\n",
    "datasets = cat.datasets.filter_time_range(request_time, request_time + timedelta(hours=6))\n",
    "print(datasets)\n"
   ]
  },
  {
   "cell_type": "markdown",
   "metadata": {},
   "source": [
    "<a href=\"#top\">Top</a>\n",
    "<hr style=\"height:2px;\">"
   ]
  },
  {
   "cell_type": "markdown",
   "metadata": {},
   "source": [
    "<a name=\"dataaccess\"></a>\n",
    "## 3. Use Siphon to Perform Remote Data Access\n",
    "\n",
    "Accessing catalogs is only part of the story; Siphon is much more useful if you're trying to access/download datasets.\n",
    "\n",
    "For instance, using our data that we just retrieved:"
   ]
  },
  {
   "cell_type": "code",
   "execution_count": 9,
   "metadata": {},
   "outputs": [],
   "source": [
    "# Solution from above in case you had trouble\n",
    "date = datetime.utcnow() - timedelta(days=1)\n",
    "cat = TDSCatalog(f'https://thredds.ucar.edu/thredds/catalog/nexrad/level2/KINX/{date:%Y%m%d}/catalog.xml')\n",
    "request_time = date.replace(hour=12, minute=0, second=0, microsecond=0)\n",
    "datasets = cat.datasets.filter_time_range(request_time, request_time + timedelta(hours=6))"
   ]
  },
  {
   "cell_type": "code",
   "execution_count": 10,
   "metadata": {},
   "outputs": [],
   "source": [
    "ds = datasets[0]"
   ]
  },
  {
   "cell_type": "markdown",
   "metadata": {
    "slideshow": {
     "slide_type": "fragment"
    }
   },
   "source": [
    "We can ask Siphon to download the file locally:"
   ]
  },
  {
   "cell_type": "code",
   "execution_count": 11,
   "metadata": {},
   "outputs": [],
   "source": [
    "ds.download()"
   ]
  },
  {
   "cell_type": "markdown",
   "metadata": {},
   "source": [
    "Look in your file explorer panel or run the cell below to verify that we did actually download the file!"
   ]
  },
  {
   "cell_type": "code",
   "execution_count": 12,
   "metadata": {},
   "outputs": [
    {
     "data": {
      "text/plain": [
       "['Level2_KINX_20200827_1756.ar2v', 'solutions', 'Siphon Overview.ipynb']"
      ]
     },
     "execution_count": 12,
     "metadata": {},
     "output_type": "execute_result"
    }
   ],
   "source": [
    "import os; os.listdir()"
   ]
  },
  {
   "cell_type": "markdown",
   "metadata": {
    "slideshow": {
     "slide_type": "subslide"
    }
   },
   "source": [
    "Or better yet, get a file-like object that lets us `read` from the file as if it were local:"
   ]
  },
  {
   "cell_type": "code",
   "execution_count": 13,
   "metadata": {},
   "outputs": [
    {
     "name": "stdout",
     "output_type": "stream",
     "text": [
      "11017267\n"
     ]
    }
   ],
   "source": [
    "fobj = ds.remote_open()\n",
    "data = fobj.read()\n",
    "print(len(data))"
   ]
  },
  {
   "cell_type": "markdown",
   "metadata": {},
   "source": [
    "This is handy if you have Python code to read a particular format."
   ]
  },
  {
   "cell_type": "markdown",
   "metadata": {
    "slideshow": {
     "slide_type": "subslide"
    }
   },
   "source": [
    "It's also possible to get access to the file through services that provide netCDF4-like access, but for the remote file. This access allows downloading information only for variables of interest, or for (index-based) subsets of that data:"
   ]
  },
  {
   "cell_type": "code",
   "execution_count": 14,
   "metadata": {},
   "outputs": [],
   "source": [
    "nc = ds.remote_access()"
   ]
  },
  {
   "cell_type": "markdown",
   "metadata": {},
   "source": [
    "By default this uses CDMRemote (if available), but it's also possible to ask for OPeNDAP (using netCDF4-python). There is even XArray support which is great with the declarative plotting interface - more on that later."
   ]
  },
  {
   "cell_type": "code",
   "execution_count": 15,
   "metadata": {},
   "outputs": [
    {
     "name": "stdout",
     "output_type": "stream",
     "text": [
      "['Reflectivity_HI', 'timeR_HI', 'elevationR_HI', 'azimuthR_HI', 'distanceR_HI', 'numRadialsR_HI', 'numGatesR_HI', 'Reflectivity', 'timeR', 'elevationR', 'azimuthR', 'distanceR', 'numRadialsR', 'numGatesR', 'RadialVelocity_HI', 'timeV_HI', 'elevationV_HI', 'azimuthV_HI', 'distanceV_HI', 'numRadialsV_HI', 'numGatesV_HI', 'RadialVelocity', 'timeV', 'elevationV', 'azimuthV', 'distanceV', 'numRadialsV', 'numGatesV', 'SpectrumWidth_HI', 'SpectrumWidth', 'DifferentialReflectivity_HI', 'timeD_HI', 'elevationD_HI', 'azimuthD_HI', 'distanceD_HI', 'numRadialsD_HI', 'numGatesD_HI', 'DifferentialReflectivity', 'timeD', 'elevationD', 'azimuthD', 'distanceD', 'numRadialsD', 'numGatesD', 'CorrelationCoefficient_HI', 'timeC_HI', 'elevationC_HI', 'azimuthC_HI', 'distanceC_HI', 'numRadialsC_HI', 'numGatesC_HI', 'CorrelationCoefficient', 'timeC', 'elevationC', 'azimuthC', 'distanceC', 'numRadialsC', 'numGatesC', 'DifferentialPhase_HI', 'timeP_HI', 'elevationP_HI', 'azimuthP_HI', 'distanceP_HI', 'numRadialsP_HI', 'numGatesP_HI', 'DifferentialPhase', 'timeP', 'elevationP', 'azimuthP', 'distanceP', 'numRadialsP', 'numGatesP']\n"
     ]
    }
   ],
   "source": [
    "print(list(nc.variables))"
   ]
  },
  {
   "cell_type": "markdown",
   "metadata": {},
   "source": [
    "<a href=\"#top\">Top</a>\n",
    "<hr style=\"height:2px;\">"
   ]
  }
 ],
 "metadata": {
  "kernelspec": {
   "display_name": "Python 3",
   "language": "python",
   "name": "python3"
  },
  "language_info": {
   "codemirror_mode": {
    "name": "ipython",
    "version": 3
   },
   "file_extension": ".py",
   "mimetype": "text/x-python",
   "name": "python",
   "nbconvert_exporter": "python",
   "pygments_lexer": "ipython3",
   "version": "3.7.8"
  }
 },
 "nbformat": 4,
 "nbformat_minor": 4
}
