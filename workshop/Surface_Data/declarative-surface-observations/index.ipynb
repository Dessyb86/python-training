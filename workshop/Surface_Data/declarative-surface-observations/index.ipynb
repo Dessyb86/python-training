{
 "cells": [
  {
   "cell_type": "markdown",
   "metadata": {},
   "source": [
    "<a name=\"top\"></a>\n",
    "<div style=\"width:1000 px\">\n",
    "\n",
    "<div style=\"float:right; width:98 px; height:98px;\">\n",
    "<img src=\"https://raw.githubusercontent.com/Unidata/MetPy/master/src/metpy/plots/_static/unidata_150x150.png\" alt=\"Unidata Logo\" style=\"height: 98px;\">\n",
    "</div>\n",
    "\n",
    "<h1>Working with Surface Observations in Siphon and MetPy</h1>\n",
    "<h3>Unidata Python Workshop</h3>\n",
    "\n",
    "<div style=\"clear:both\"></div>\n",
    "</div>\n",
    "\n",
    "<hr style=\"height:2px;\">\n",
    "\n",
    "<div style=\"float:right; width:250 px\"><img src=\"http://weather-geek.net/images/metar_what.png\" alt=\"METAR\" style=\"height: 200px;\"></div>\n",
    "\n",
    "### Questions\n",
    "1. What's the best way to get surface station data from a THREDDS data server?\n",
    "1. What's the best way to make a station plot of data?\n",
    "1. How can I request a time series of data for a single station?\n",
    "\n",
    "### Objectives\n",
    "1. <a href=\"#metar\">Getting METARs from THREDDS</a>\n",
    "1. <a href=\"#parse\">Parse the Data</a>\n",
    "1. <a href=\"#stationplot\">Making a Station Plot</a>\n",
    "1. <a href=\"#timeseries\">Time Series Request and Plot</a>"
   ]
  },
  {
   "cell_type": "markdown",
   "metadata": {},
   "source": [
    "<a name=\"metar\">Getting METARs from THREDDS</a>\n",
    "## 1. Getting METARs from THREDDS\n",
    "\n",
    "We can get the current METARS from the THREDDS test server (it's not yet available on the main thredds.ucar.edu). Head over to <a href=\"https://thredds-test.unidata.ucar.edu/\">https://thredds-test.unidata.ucar.edu/</a> and navigate to the NOAAport products and find the files."
   ]
  },
  {
   "cell_type": "code",
   "execution_count": 1,
   "metadata": {},
   "outputs": [],
   "source": [
    "from siphon.catalog import TDSCatalog"
   ]
  },
  {
   "cell_type": "code",
   "execution_count": 2,
   "metadata": {},
   "outputs": [],
   "source": [
    "cat = TDSCatalog('https://thredds-test.unidata.ucar.edu/thredds/catalog/noaaport/text/metar/catalog.xml')"
   ]
  },
  {
   "cell_type": "code",
   "execution_count": 3,
   "metadata": {},
   "outputs": [],
   "source": [
    "ds = cat.datasets[0]"
   ]
  },
  {
   "cell_type": "code",
   "execution_count": 4,
   "metadata": {},
   "outputs": [],
   "source": [
    "# Ideally we would use remote_open, but because of a soon to be fixed bug we\n",
    "# have to download locally and open that way.\n",
    "# fobj = ds.remote_open()"
   ]
  },
  {
   "cell_type": "code",
   "execution_count": 5,
   "metadata": {},
   "outputs": [],
   "source": [
    "ds.download(f'../../../data/{ds.name}')"
   ]
  },
  {
   "cell_type": "markdown",
   "metadata": {},
   "source": [
    "Open the file and take a look - aren't you glad MetPy can parse this for you?"
   ]
  },
  {
   "cell_type": "markdown",
   "metadata": {},
   "source": [
    "<a href=\"#top\">Top</a>\n",
    "<hr style=\"height:2px;\">"
   ]
  },
  {
   "cell_type": "markdown",
   "metadata": {},
   "source": [
    "<a name=\"parse\"></a>\n",
    "## 2. Parse the Data\n",
    "MetPy can parse the METAR data for us into a dataframe that the declarative plotting inface can work with nicely."
   ]
  },
  {
   "cell_type": "code",
   "execution_count": 6,
   "metadata": {},
   "outputs": [],
   "source": [
    "from metpy.io import parse_metar_file"
   ]
  },
  {
   "cell_type": "code",
   "execution_count": 7,
   "metadata": {},
   "outputs": [],
   "source": [
    "df = parse_metar_file(f'../../../data/{ds.name}')"
   ]
  },
  {
   "cell_type": "code",
   "execution_count": 8,
   "metadata": {},
   "outputs": [
    {
     "data": {
      "text/html": [
       "<div>\n",
       "<style scoped>\n",
       "    .dataframe tbody tr th:only-of-type {\n",
       "        vertical-align: middle;\n",
       "    }\n",
       "\n",
       "    .dataframe tbody tr th {\n",
       "        vertical-align: top;\n",
       "    }\n",
       "\n",
       "    .dataframe thead th {\n",
       "        text-align: right;\n",
       "    }\n",
       "</style>\n",
       "<table border=\"1\" class=\"dataframe\">\n",
       "  <thead>\n",
       "    <tr style=\"text-align: right;\">\n",
       "      <th></th>\n",
       "      <th>station_id</th>\n",
       "      <th>latitude</th>\n",
       "      <th>longitude</th>\n",
       "      <th>elevation</th>\n",
       "      <th>date_time</th>\n",
       "      <th>wind_direction</th>\n",
       "      <th>wind_speed</th>\n",
       "      <th>current_wx1</th>\n",
       "      <th>current_wx2</th>\n",
       "      <th>current_wx3</th>\n",
       "      <th>...</th>\n",
       "      <th>cloud_coverage</th>\n",
       "      <th>air_temperature</th>\n",
       "      <th>dew_point_temperature</th>\n",
       "      <th>altimeter</th>\n",
       "      <th>present_weather</th>\n",
       "      <th>past_weather</th>\n",
       "      <th>past_weather2</th>\n",
       "      <th>air_pressure_at_sea_level</th>\n",
       "      <th>eastward_wind</th>\n",
       "      <th>northward_wind</th>\n",
       "    </tr>\n",
       "  </thead>\n",
       "  <tbody>\n",
       "    <tr>\n",
       "      <th>K27K</th>\n",
       "      <td>K27K</td>\n",
       "      <td>38.233333</td>\n",
       "      <td>-84.433333</td>\n",
       "      <td>289.0</td>\n",
       "      <td>2020-09-04 23:55:00</td>\n",
       "      <td>0.0</td>\n",
       "      <td>0.0</td>\n",
       "      <td>NaN</td>\n",
       "      <td>NaN</td>\n",
       "      <td>NaN</td>\n",
       "      <td>...</td>\n",
       "      <td>4</td>\n",
       "      <td>24.0</td>\n",
       "      <td>17.0</td>\n",
       "      <td>30.00</td>\n",
       "      <td>0</td>\n",
       "      <td>0</td>\n",
       "      <td>0</td>\n",
       "      <td>1015.06</td>\n",
       "      <td>-0.000000e+00</td>\n",
       "      <td>-0.000000</td>\n",
       "    </tr>\n",
       "    <tr>\n",
       "      <th>KIPJ</th>\n",
       "      <td>KIPJ</td>\n",
       "      <td>35.470000</td>\n",
       "      <td>-81.170000</td>\n",
       "      <td>267.0</td>\n",
       "      <td>2020-09-04 23:55:00</td>\n",
       "      <td>340.0</td>\n",
       "      <td>5.0</td>\n",
       "      <td>NaN</td>\n",
       "      <td>NaN</td>\n",
       "      <td>NaN</td>\n",
       "      <td>...</td>\n",
       "      <td>8</td>\n",
       "      <td>25.0</td>\n",
       "      <td>19.0</td>\n",
       "      <td>29.99</td>\n",
       "      <td>0</td>\n",
       "      <td>0</td>\n",
       "      <td>0</td>\n",
       "      <td>1014.71</td>\n",
       "      <td>1.710101e+00</td>\n",
       "      <td>-4.698463</td>\n",
       "    </tr>\n",
       "    <tr>\n",
       "      <th>KM25</th>\n",
       "      <td>KM25</td>\n",
       "      <td>36.770000</td>\n",
       "      <td>-88.580000</td>\n",
       "      <td>160.0</td>\n",
       "      <td>2020-09-04 23:55:00</td>\n",
       "      <td>320.0</td>\n",
       "      <td>5.0</td>\n",
       "      <td>NaN</td>\n",
       "      <td>NaN</td>\n",
       "      <td>NaN</td>\n",
       "      <td>...</td>\n",
       "      <td>4</td>\n",
       "      <td>23.0</td>\n",
       "      <td>16.0</td>\n",
       "      <td>30.04</td>\n",
       "      <td>0</td>\n",
       "      <td>0</td>\n",
       "      <td>0</td>\n",
       "      <td>1017.03</td>\n",
       "      <td>3.213938e+00</td>\n",
       "      <td>-3.830222</td>\n",
       "    </tr>\n",
       "    <tr>\n",
       "      <th>KVER</th>\n",
       "      <td>KVER</td>\n",
       "      <td>38.950000</td>\n",
       "      <td>-92.680000</td>\n",
       "      <td>218.0</td>\n",
       "      <td>2020-09-04 23:55:00</td>\n",
       "      <td>360.0</td>\n",
       "      <td>3.0</td>\n",
       "      <td>NaN</td>\n",
       "      <td>NaN</td>\n",
       "      <td>NaN</td>\n",
       "      <td>...</td>\n",
       "      <td>0</td>\n",
       "      <td>24.0</td>\n",
       "      <td>14.0</td>\n",
       "      <td>30.10</td>\n",
       "      <td>0</td>\n",
       "      <td>0</td>\n",
       "      <td>0</td>\n",
       "      <td>1018.76</td>\n",
       "      <td>7.347881e-16</td>\n",
       "      <td>-3.000000</td>\n",
       "    </tr>\n",
       "    <tr>\n",
       "      <th>KLQK</th>\n",
       "      <td>KLQK</td>\n",
       "      <td>34.820000</td>\n",
       "      <td>-82.700000</td>\n",
       "      <td>309.0</td>\n",
       "      <td>2020-09-04 23:55:00</td>\n",
       "      <td>0.0</td>\n",
       "      <td>0.0</td>\n",
       "      <td>NaN</td>\n",
       "      <td>NaN</td>\n",
       "      <td>NaN</td>\n",
       "      <td>...</td>\n",
       "      <td>4</td>\n",
       "      <td>27.0</td>\n",
       "      <td>22.0</td>\n",
       "      <td>29.97</td>\n",
       "      <td>0</td>\n",
       "      <td>0</td>\n",
       "      <td>0</td>\n",
       "      <td>1013.59</td>\n",
       "      <td>-0.000000e+00</td>\n",
       "      <td>-0.000000</td>\n",
       "    </tr>\n",
       "  </tbody>\n",
       "</table>\n",
       "<p>5 rows × 28 columns</p>\n",
       "</div>"
      ],
      "text/plain": [
       "     station_id   latitude  longitude  elevation           date_time  \\\n",
       "K27K       K27K  38.233333 -84.433333      289.0 2020-09-04 23:55:00   \n",
       "KIPJ       KIPJ  35.470000 -81.170000      267.0 2020-09-04 23:55:00   \n",
       "KM25       KM25  36.770000 -88.580000      160.0 2020-09-04 23:55:00   \n",
       "KVER       KVER  38.950000 -92.680000      218.0 2020-09-04 23:55:00   \n",
       "KLQK       KLQK  34.820000 -82.700000      309.0 2020-09-04 23:55:00   \n",
       "\n",
       "      wind_direction  wind_speed current_wx1 current_wx2 current_wx3  ...  \\\n",
       "K27K             0.0         0.0         NaN         NaN         NaN  ...   \n",
       "KIPJ           340.0         5.0         NaN         NaN         NaN  ...   \n",
       "KM25           320.0         5.0         NaN         NaN         NaN  ...   \n",
       "KVER           360.0         3.0         NaN         NaN         NaN  ...   \n",
       "KLQK             0.0         0.0         NaN         NaN         NaN  ...   \n",
       "\n",
       "     cloud_coverage air_temperature dew_point_temperature  altimeter  \\\n",
       "K27K              4            24.0                  17.0      30.00   \n",
       "KIPJ              8            25.0                  19.0      29.99   \n",
       "KM25              4            23.0                  16.0      30.04   \n",
       "KVER              0            24.0                  14.0      30.10   \n",
       "KLQK              4            27.0                  22.0      29.97   \n",
       "\n",
       "     present_weather  past_weather past_weather2  air_pressure_at_sea_level  \\\n",
       "K27K               0             0             0                    1015.06   \n",
       "KIPJ               0             0             0                    1014.71   \n",
       "KM25               0             0             0                    1017.03   \n",
       "KVER               0             0             0                    1018.76   \n",
       "KLQK               0             0             0                    1013.59   \n",
       "\n",
       "      eastward_wind  northward_wind  \n",
       "K27K  -0.000000e+00       -0.000000  \n",
       "KIPJ   1.710101e+00       -4.698463  \n",
       "KM25   3.213938e+00       -3.830222  \n",
       "KVER   7.347881e-16       -3.000000  \n",
       "KLQK  -0.000000e+00       -0.000000  \n",
       "\n",
       "[5 rows x 28 columns]"
      ]
     },
     "execution_count": 8,
     "metadata": {},
     "output_type": "execute_result"
    }
   ],
   "source": [
    "df.head()"
   ]
  },
  {
   "cell_type": "markdown",
   "metadata": {},
   "source": [
    "Let's take a bit of a closer look at the columns that are available to use as well."
   ]
  },
  {
   "cell_type": "code",
   "execution_count": 9,
   "metadata": {},
   "outputs": [
    {
     "data": {
      "text/plain": [
       "['station_id',\n",
       " 'latitude',\n",
       " 'longitude',\n",
       " 'elevation',\n",
       " 'date_time',\n",
       " 'wind_direction',\n",
       " 'wind_speed',\n",
       " 'current_wx1',\n",
       " 'current_wx2',\n",
       " 'current_wx3',\n",
       " 'low_cloud_type',\n",
       " 'low_cloud_level',\n",
       " 'medium_cloud_type',\n",
       " 'medium_cloud_level',\n",
       " 'high_cloud_type',\n",
       " 'high_cloud_level',\n",
       " 'highest_cloud_type',\n",
       " 'highest_cloud_level',\n",
       " 'cloud_coverage',\n",
       " 'air_temperature',\n",
       " 'dew_point_temperature',\n",
       " 'altimeter',\n",
       " 'present_weather',\n",
       " 'past_weather',\n",
       " 'past_weather2',\n",
       " 'air_pressure_at_sea_level',\n",
       " 'eastward_wind',\n",
       " 'northward_wind']"
      ]
     },
     "execution_count": 9,
     "metadata": {},
     "output_type": "execute_result"
    }
   ],
   "source": [
    "list(df.columns)"
   ]
  },
  {
   "cell_type": "markdown",
   "metadata": {},
   "source": [
    "<a href=\"#top\">Top</a>\n",
    "<hr style=\"height:2px;\">"
   ]
  },
  {
   "cell_type": "markdown",
   "metadata": {},
   "source": [
    "<a name=\"stationplot\"></a>\n",
    "## 3. Making a Station Plot"
   ]
  },
  {
   "cell_type": "code",
   "execution_count": 10,
   "metadata": {},
   "outputs": [],
   "source": [
    "from datetime import datetime, timedelta\n",
    "\n",
    "import cartopy.crs as ccrs\n",
    "\n",
    "from metpy.plots.declarative import *"
   ]
  },
  {
   "cell_type": "code",
   "execution_count": 11,
   "metadata": {},
   "outputs": [
    {
     "data": {
      "image/png": "[encoded data removed]",
      "text/plain": [
       "<Figure size 720x720 with 1 Axes>"
      ]
     },
     "metadata": {
      "needs_background": "light"
     },
     "output_type": "display_data"
    }
   ],
   "source": [
    "obs = PlotObs()\n",
    "obs.data = df\n",
    "obs.time = datetime.utcnow()\n",
    "obs.level = None\n",
    "obs.fields = ['air_temperature']\n",
    "obs.locations = ['NW']\n",
    "obs.colors = ['tab:red']\n",
    "obs.formats = [None]\n",
    "obs.vector_field = ['eastward_wind', 'northward_wind']\n",
    "obs.reduce_points = 0.5\n",
    "\n",
    "panel = MapPanel()\n",
    "panel.area = 'ma'\n",
    "panel.projection = ccrs.PlateCarree()\n",
    "panel.layers = ['coastline', 'borders', 'states']\n",
    "\n",
    "panel.plots = [obs]\n",
    "\n",
    "pc = PanelContainer()\n",
    "pc.size = (10, 10)\n",
    "pc.panels = [panel]\n",
    "\n",
    "pc.show()"
   ]
  },
  {
   "cell_type": "markdown",
   "metadata": {},
   "source": [
    "<div class=\"alert alert-success\">\n",
    "    <b>EXERCISE</b>:\n",
    "\n",
    "Make a surface plot that plots:\n",
    "\n",
    " <ul>\n",
    "     <li>Temperature in red, NW plot area</li>\n",
    "     <li>Dewpoint in green, SW plot area</li>\n",
    "     <li>Altimeter setting in black, NE plot area</li>\n",
    "     <li>Sky coverage in black, Center plot area</li>\n",
    "     <li>Set the title to something relevant</li>\n",
    "</ul>\n",
    "\n",
    "<b>BONUS: Format the altimeter setting in the \"traditional\" way (multiply by 10 and show only the last three digits of the integer value). i.e. 1014.56 becomes 145.</b>\n",
    "</div>"
   ]
  },
  {
   "cell_type": "code",
   "execution_count": 12,
   "metadata": {},
   "outputs": [],
   "source": [
    "# Make the observation plot\n",
    "\n",
    "# Make the map panel\n",
    "\n",
    "# Make the panel container\n",
    "\n",
    "# Show the plot\n"
   ]
  },
  {
   "cell_type": "markdown",
   "metadata": {},
   "source": [
    "<div class=\"alert alert-info\">\n",
    "    <b>SOLUTION</b>\n",
    "</div>"
   ]
  },
  {
   "cell_type": "code",
   "execution_count": 13,
   "metadata": {},
   "outputs": [
    {
     "data": {
      "image/png": "[encoded data removed]",
      "text/plain": [
       "<Figure size 720x720 with 1 Axes>"
      ]
     },
     "metadata": {
      "needs_background": "light"
     },
     "output_type": "display_data"
    }
   ],
   "source": [
    "# %load solutions/dec_basic_sfc_plot.py\n",
    "\n",
    "# Cell content replaced by load magic replacement.\n",
    "# Make the observation plot\n",
    "obs = PlotObs()\n",
    "obs.data = df\n",
    "obs.time = datetime.utcnow()\n",
    "obs.level = None\n",
    "obs.fields = ['air_temperature', 'dew_point_temperature', 'altimeter', 'cloud_coverage']\n",
    "obs.locations = ['NW', 'SW', 'NE', 'C']\n",
    "obs.colors = ['tab:red', 'tab:green', 'black', 'black']\n",
    "obs.formats = [None, None, lambda v: format(10 * v, '.0f')[-3:], 'sky_cover']\n",
    "obs.vector_field = ['eastward_wind', 'northward_wind']\n",
    "obs.reduce_points = 1\n",
    "\n",
    "# Make the map panel\n",
    "panel = MapPanel()\n",
    "panel.area = 'fl'\n",
    "panel.projection = ccrs.PlateCarree()\n",
    "panel.layers = ['coastline', 'borders', 'states']\n",
    "panel.plots = [obs]\n",
    "panel.title = f'Surface Observations {datetime.utcnow():%Y-%m-%d}'\n",
    "\n",
    "# Make the panel container\n",
    "pc = PanelContainer()\n",
    "pc.size = (10, 10)\n",
    "pc.panels = [panel]\n",
    "\n",
    "# Show the plot\n",
    "pc.show()\n"
   ]
  },
  {
   "cell_type": "markdown",
   "metadata": {},
   "source": [
    "<a href=\"#top\">Top</a>\n",
    "<hr style=\"height:2px;\">"
   ]
  },
  {
   "cell_type": "markdown",
   "metadata": {},
   "source": [
    "<a name=\"timeseries\"></a>\n",
    "## 4. Time Series Request and Plot\n",
    "Let's say we want the past days worth of data for a lat/lon point for the variables mean sea level pressure, air temperature, wind direction, and wind speed. We do not have time series plots in a declarative way yet, but these plots are relatively straight forward to create and it's another way we can query THREDDS to get data."
   ]
  },
  {
   "cell_type": "code",
   "execution_count": 14,
   "metadata": {},
   "outputs": [],
   "source": [
    "metar_cat_url = ('http://thredds.ucar.edu/thredds/catalog/'\n",
    "                 'irma/metar/catalog.xml?dataset=irma/metar/Metar_Station_Data_-_Irma_fc.cdmr')\n",
    "\n",
    "catalog = TDSCatalog(metar_cat_url)\n",
    "\n",
    "metar_dataset = catalog.datasets['Feature Collection']\n",
    "\n",
    "ncss = metar_dataset.subset()"
   ]
  },
  {
   "cell_type": "code",
   "execution_count": 15,
   "metadata": {},
   "outputs": [
    {
     "data": {
      "text/plain": [
       "var=altimeter_setting&var=wind_direction&var=dewpoint&var=temperature&var=wind_speed&time_start=2017-09-10T00%3A00%3A00&time_end=2017-09-12T00%3A00%3A00&longitude=-80.25&latitude=25.8&accept=csv"
      ]
     },
     "execution_count": 15,
     "metadata": {},
     "output_type": "execute_result"
    }
   ],
   "source": [
    "# Define the time range we are interested in\n",
    "end_time = datetime(2017, 9, 12, 0)\n",
    "start_time = end_time - timedelta(days=2)\n",
    "\n",
    "# Build the query\n",
    "query = ncss.query()\n",
    "query.lonlat_point(-80.25, 25.8)\n",
    "query.time_range(start_time, end_time)\n",
    "query.variables('altimeter_setting', 'temperature', 'dewpoint',\n",
    "                'wind_direction', 'wind_speed')\n",
    "query.accept('csv')"
   ]
  },
  {
   "cell_type": "code",
   "execution_count": 16,
   "metadata": {},
   "outputs": [
    {
     "name": "stderr",
     "output_type": "stream",
     "text": [
      "/home/travis/miniconda/envs/unidata/lib/python3.7/site-packages/siphon/ncss.py:433: VisibleDeprecationWarning: Reading unicode strings without specifying the encoding argument is deprecated. Set the encoding, use None for the system default.\n",
      "  converters={'date': lambda s: parse_iso_date(s.decode('utf-8'))})\n"
     ]
    }
   ],
   "source": [
    "# Get the data\n",
    "data = ncss.get_data(query)"
   ]
  },
  {
   "cell_type": "code",
   "execution_count": 17,
   "metadata": {},
   "outputs": [
    {
     "name": "stdout",
     "output_type": "stream",
     "text": [
      "['time', 'station', 'latitude', 'longitude', 'altimeter_setting', 'wind_direction', 'dewpoint', 'temperature', 'wind_speed']\n"
     ]
    }
   ],
   "source": [
    "# Make sure we got what we asked for\n",
    "print(list(data.keys()))"
   ]
  },
  {
   "cell_type": "markdown",
   "metadata": {},
   "source": [
    "### Cleanup the Data"
   ]
  },
  {
   "cell_type": "code",
   "execution_count": 18,
   "metadata": {},
   "outputs": [],
   "source": [
    "import pandas as pd"
   ]
  },
  {
   "cell_type": "code",
   "execution_count": 19,
   "metadata": {},
   "outputs": [],
   "source": [
    "df = pd.DataFrame(data)"
   ]
  },
  {
   "cell_type": "code",
   "execution_count": 20,
   "metadata": {},
   "outputs": [
    {
     "data": {
      "text/html": [
       "<div>\n",
       "<style scoped>\n",
       "    .dataframe tbody tr th:only-of-type {\n",
       "        vertical-align: middle;\n",
       "    }\n",
       "\n",
       "    .dataframe tbody tr th {\n",
       "        vertical-align: top;\n",
       "    }\n",
       "\n",
       "    .dataframe thead th {\n",
       "        text-align: right;\n",
       "    }\n",
       "</style>\n",
       "<table border=\"1\" class=\"dataframe\">\n",
       "  <thead>\n",
       "    <tr style=\"text-align: right;\">\n",
       "      <th></th>\n",
       "      <th>time</th>\n",
       "      <th>station</th>\n",
       "      <th>latitude</th>\n",
       "      <th>longitude</th>\n",
       "      <th>altimeter_setting</th>\n",
       "      <th>wind_direction</th>\n",
       "      <th>dewpoint</th>\n",
       "      <th>temperature</th>\n",
       "      <th>wind_speed</th>\n",
       "    </tr>\n",
       "  </thead>\n",
       "  <tbody>\n",
       "    <tr>\n",
       "      <th>0</th>\n",
       "      <td>b'2017-09-10T00:13:00Z'</td>\n",
       "      <td>b'KMIA'</td>\n",
       "      <td>25.799</td>\n",
       "      <td>-80.279</td>\n",
       "      <td>1003.72560</td>\n",
       "      <td>70.0</td>\n",
       "      <td>23.0</td>\n",
       "      <td>25.0</td>\n",
       "      <td>10.803333</td>\n",
       "    </tr>\n",
       "    <tr>\n",
       "      <th>1</th>\n",
       "      <td>b'2017-09-10T00:19:00Z'</td>\n",
       "      <td>b'KMIA'</td>\n",
       "      <td>25.799</td>\n",
       "      <td>-80.279</td>\n",
       "      <td>1003.72560</td>\n",
       "      <td>70.0</td>\n",
       "      <td>23.0</td>\n",
       "      <td>26.0</td>\n",
       "      <td>9.260000</td>\n",
       "    </tr>\n",
       "    <tr>\n",
       "      <th>2</th>\n",
       "      <td>b'2017-09-10T00:19:00Z'</td>\n",
       "      <td>b'KMIA'</td>\n",
       "      <td>25.799</td>\n",
       "      <td>-80.279</td>\n",
       "      <td>1003.72560</td>\n",
       "      <td>70.0</td>\n",
       "      <td>23.0</td>\n",
       "      <td>26.0</td>\n",
       "      <td>9.260000</td>\n",
       "    </tr>\n",
       "    <tr>\n",
       "      <th>3</th>\n",
       "      <td>b'2017-09-10T00:44:00Z'</td>\n",
       "      <td>b'KMIA'</td>\n",
       "      <td>25.799</td>\n",
       "      <td>-80.279</td>\n",
       "      <td>1003.72560</td>\n",
       "      <td>80.0</td>\n",
       "      <td>23.0</td>\n",
       "      <td>26.0</td>\n",
       "      <td>9.774445</td>\n",
       "    </tr>\n",
       "    <tr>\n",
       "      <th>4</th>\n",
       "      <td>b'2017-09-10T00:50:00Z'</td>\n",
       "      <td>b'KMIA'</td>\n",
       "      <td>25.799</td>\n",
       "      <td>-80.279</td>\n",
       "      <td>1003.38696</td>\n",
       "      <td>70.0</td>\n",
       "      <td>23.0</td>\n",
       "      <td>26.0</td>\n",
       "      <td>9.260000</td>\n",
       "    </tr>\n",
       "  </tbody>\n",
       "</table>\n",
       "</div>"
      ],
      "text/plain": [
       "                      time  station  latitude  longitude  altimeter_setting  \\\n",
       "0  b'2017-09-10T00:13:00Z'  b'KMIA'    25.799    -80.279         1003.72560   \n",
       "1  b'2017-09-10T00:19:00Z'  b'KMIA'    25.799    -80.279         1003.72560   \n",
       "2  b'2017-09-10T00:19:00Z'  b'KMIA'    25.799    -80.279         1003.72560   \n",
       "3  b'2017-09-10T00:44:00Z'  b'KMIA'    25.799    -80.279         1003.72560   \n",
       "4  b'2017-09-10T00:50:00Z'  b'KMIA'    25.799    -80.279         1003.38696   \n",
       "\n",
       "   wind_direction  dewpoint  temperature  wind_speed  \n",
       "0            70.0      23.0         25.0   10.803333  \n",
       "1            70.0      23.0         26.0    9.260000  \n",
       "2            70.0      23.0         26.0    9.260000  \n",
       "3            80.0      23.0         26.0    9.774445  \n",
       "4            70.0      23.0         26.0    9.260000  "
      ]
     },
     "execution_count": 20,
     "metadata": {},
     "output_type": "execute_result"
    }
   ],
   "source": [
    "df.head()"
   ]
  },
  {
   "cell_type": "code",
   "execution_count": 21,
   "metadata": {},
   "outputs": [],
   "source": [
    "# Parse the date time stamps\n",
    "df['time'] = pd.to_datetime(df['time'].str.decode('utf-8'), infer_datetime_format=True)"
   ]
  },
  {
   "cell_type": "code",
   "execution_count": 22,
   "metadata": {},
   "outputs": [
    {
     "data": {
      "text/html": [
       "<div>\n",
       "<style scoped>\n",
       "    .dataframe tbody tr th:only-of-type {\n",
       "        vertical-align: middle;\n",
       "    }\n",
       "\n",
       "    .dataframe tbody tr th {\n",
       "        vertical-align: top;\n",
       "    }\n",
       "\n",
       "    .dataframe thead th {\n",
       "        text-align: right;\n",
       "    }\n",
       "</style>\n",
       "<table border=\"1\" class=\"dataframe\">\n",
       "  <thead>\n",
       "    <tr style=\"text-align: right;\">\n",
       "      <th></th>\n",
       "      <th>time</th>\n",
       "      <th>station</th>\n",
       "      <th>latitude</th>\n",
       "      <th>longitude</th>\n",
       "      <th>altimeter_setting</th>\n",
       "      <th>wind_direction</th>\n",
       "      <th>dewpoint</th>\n",
       "      <th>temperature</th>\n",
       "      <th>wind_speed</th>\n",
       "    </tr>\n",
       "  </thead>\n",
       "  <tbody>\n",
       "    <tr>\n",
       "      <th>0</th>\n",
       "      <td>2017-09-10 00:13:00</td>\n",
       "      <td>b'KMIA'</td>\n",
       "      <td>25.799</td>\n",
       "      <td>-80.279</td>\n",
       "      <td>1003.72560</td>\n",
       "      <td>70.0</td>\n",
       "      <td>23.0</td>\n",
       "      <td>25.0</td>\n",
       "      <td>10.803333</td>\n",
       "    </tr>\n",
       "    <tr>\n",
       "      <th>1</th>\n",
       "      <td>2017-09-10 00:19:00</td>\n",
       "      <td>b'KMIA'</td>\n",
       "      <td>25.799</td>\n",
       "      <td>-80.279</td>\n",
       "      <td>1003.72560</td>\n",
       "      <td>70.0</td>\n",
       "      <td>23.0</td>\n",
       "      <td>26.0</td>\n",
       "      <td>9.260000</td>\n",
       "    </tr>\n",
       "    <tr>\n",
       "      <th>2</th>\n",
       "      <td>2017-09-10 00:19:00</td>\n",
       "      <td>b'KMIA'</td>\n",
       "      <td>25.799</td>\n",
       "      <td>-80.279</td>\n",
       "      <td>1003.72560</td>\n",
       "      <td>70.0</td>\n",
       "      <td>23.0</td>\n",
       "      <td>26.0</td>\n",
       "      <td>9.260000</td>\n",
       "    </tr>\n",
       "    <tr>\n",
       "      <th>3</th>\n",
       "      <td>2017-09-10 00:44:00</td>\n",
       "      <td>b'KMIA'</td>\n",
       "      <td>25.799</td>\n",
       "      <td>-80.279</td>\n",
       "      <td>1003.72560</td>\n",
       "      <td>80.0</td>\n",
       "      <td>23.0</td>\n",
       "      <td>26.0</td>\n",
       "      <td>9.774445</td>\n",
       "    </tr>\n",
       "    <tr>\n",
       "      <th>4</th>\n",
       "      <td>2017-09-10 00:50:00</td>\n",
       "      <td>b'KMIA'</td>\n",
       "      <td>25.799</td>\n",
       "      <td>-80.279</td>\n",
       "      <td>1003.38696</td>\n",
       "      <td>70.0</td>\n",
       "      <td>23.0</td>\n",
       "      <td>26.0</td>\n",
       "      <td>9.260000</td>\n",
       "    </tr>\n",
       "  </tbody>\n",
       "</table>\n",
       "</div>"
      ],
      "text/plain": [
       "                 time  station  latitude  longitude  altimeter_setting  \\\n",
       "0 2017-09-10 00:13:00  b'KMIA'    25.799    -80.279         1003.72560   \n",
       "1 2017-09-10 00:19:00  b'KMIA'    25.799    -80.279         1003.72560   \n",
       "2 2017-09-10 00:19:00  b'KMIA'    25.799    -80.279         1003.72560   \n",
       "3 2017-09-10 00:44:00  b'KMIA'    25.799    -80.279         1003.72560   \n",
       "4 2017-09-10 00:50:00  b'KMIA'    25.799    -80.279         1003.38696   \n",
       "\n",
       "   wind_direction  dewpoint  temperature  wind_speed  \n",
       "0            70.0      23.0         25.0   10.803333  \n",
       "1            70.0      23.0         26.0    9.260000  \n",
       "2            70.0      23.0         26.0    9.260000  \n",
       "3            80.0      23.0         26.0    9.774445  \n",
       "4            70.0      23.0         26.0    9.260000  "
      ]
     },
     "execution_count": 22,
     "metadata": {},
     "output_type": "execute_result"
    }
   ],
   "source": [
    "df.head()"
   ]
  },
  {
   "cell_type": "code",
   "execution_count": 23,
   "metadata": {},
   "outputs": [],
   "source": [
    "# Station names are bytes, we need to convert them to strings\n",
    "df['station'] = df['station'].str.decode('utf-8')"
   ]
  },
  {
   "cell_type": "code",
   "execution_count": 24,
   "metadata": {},
   "outputs": [
    {
     "data": {
      "text/html": [
       "<div>\n",
       "<style scoped>\n",
       "    .dataframe tbody tr th:only-of-type {\n",
       "        vertical-align: middle;\n",
       "    }\n",
       "\n",
       "    .dataframe tbody tr th {\n",
       "        vertical-align: top;\n",
       "    }\n",
       "\n",
       "    .dataframe thead th {\n",
       "        text-align: right;\n",
       "    }\n",
       "</style>\n",
       "<table border=\"1\" class=\"dataframe\">\n",
       "  <thead>\n",
       "    <tr style=\"text-align: right;\">\n",
       "      <th></th>\n",
       "      <th>time</th>\n",
       "      <th>station</th>\n",
       "      <th>latitude</th>\n",
       "      <th>longitude</th>\n",
       "      <th>altimeter_setting</th>\n",
       "      <th>wind_direction</th>\n",
       "      <th>dewpoint</th>\n",
       "      <th>temperature</th>\n",
       "      <th>wind_speed</th>\n",
       "    </tr>\n",
       "  </thead>\n",
       "  <tbody>\n",
       "    <tr>\n",
       "      <th>0</th>\n",
       "      <td>2017-09-10 00:13:00</td>\n",
       "      <td>KMIA</td>\n",
       "      <td>25.799</td>\n",
       "      <td>-80.279</td>\n",
       "      <td>1003.72560</td>\n",
       "      <td>70.0</td>\n",
       "      <td>23.0</td>\n",
       "      <td>25.0</td>\n",
       "      <td>10.803333</td>\n",
       "    </tr>\n",
       "    <tr>\n",
       "      <th>1</th>\n",
       "      <td>2017-09-10 00:19:00</td>\n",
       "      <td>KMIA</td>\n",
       "      <td>25.799</td>\n",
       "      <td>-80.279</td>\n",
       "      <td>1003.72560</td>\n",
       "      <td>70.0</td>\n",
       "      <td>23.0</td>\n",
       "      <td>26.0</td>\n",
       "      <td>9.260000</td>\n",
       "    </tr>\n",
       "    <tr>\n",
       "      <th>2</th>\n",
       "      <td>2017-09-10 00:19:00</td>\n",
       "      <td>KMIA</td>\n",
       "      <td>25.799</td>\n",
       "      <td>-80.279</td>\n",
       "      <td>1003.72560</td>\n",
       "      <td>70.0</td>\n",
       "      <td>23.0</td>\n",
       "      <td>26.0</td>\n",
       "      <td>9.260000</td>\n",
       "    </tr>\n",
       "    <tr>\n",
       "      <th>3</th>\n",
       "      <td>2017-09-10 00:44:00</td>\n",
       "      <td>KMIA</td>\n",
       "      <td>25.799</td>\n",
       "      <td>-80.279</td>\n",
       "      <td>1003.72560</td>\n",
       "      <td>80.0</td>\n",
       "      <td>23.0</td>\n",
       "      <td>26.0</td>\n",
       "      <td>9.774445</td>\n",
       "    </tr>\n",
       "    <tr>\n",
       "      <th>4</th>\n",
       "      <td>2017-09-10 00:50:00</td>\n",
       "      <td>KMIA</td>\n",
       "      <td>25.799</td>\n",
       "      <td>-80.279</td>\n",
       "      <td>1003.38696</td>\n",
       "      <td>70.0</td>\n",
       "      <td>23.0</td>\n",
       "      <td>26.0</td>\n",
       "      <td>9.260000</td>\n",
       "    </tr>\n",
       "  </tbody>\n",
       "</table>\n",
       "</div>"
      ],
      "text/plain": [
       "                 time station  latitude  longitude  altimeter_setting  \\\n",
       "0 2017-09-10 00:13:00    KMIA    25.799    -80.279         1003.72560   \n",
       "1 2017-09-10 00:19:00    KMIA    25.799    -80.279         1003.72560   \n",
       "2 2017-09-10 00:19:00    KMIA    25.799    -80.279         1003.72560   \n",
       "3 2017-09-10 00:44:00    KMIA    25.799    -80.279         1003.72560   \n",
       "4 2017-09-10 00:50:00    KMIA    25.799    -80.279         1003.38696   \n",
       "\n",
       "   wind_direction  dewpoint  temperature  wind_speed  \n",
       "0            70.0      23.0         25.0   10.803333  \n",
       "1            70.0      23.0         26.0    9.260000  \n",
       "2            70.0      23.0         26.0    9.260000  \n",
       "3            80.0      23.0         26.0    9.774445  \n",
       "4            70.0      23.0         26.0    9.260000  "
      ]
     },
     "execution_count": 24,
     "metadata": {},
     "output_type": "execute_result"
    }
   ],
   "source": [
    "df.head()"
   ]
  },
  {
   "cell_type": "markdown",
   "metadata": {},
   "source": [
    "### Make a Time Series Plot"
   ]
  },
  {
   "cell_type": "code",
   "execution_count": 25,
   "metadata": {},
   "outputs": [
    {
     "data": {
      "image/png": "[encoded data removed]",
      "text/plain": [
       "<Figure size 720x432 with 1 Axes>"
      ]
     },
     "metadata": {
      "needs_background": "light"
     },
     "output_type": "display_data"
    }
   ],
   "source": [
    "ax = df.plot(x='time', y='wind_speed',\n",
    "             title=f\"{df['station'][0]} {df['time'][0]:%Y/%m/%d}\",\n",
    "             grid=True,\n",
    "             figsize=(10, 6))"
   ]
  },
  {
   "cell_type": "code",
   "execution_count": 26,
   "metadata": {},
   "outputs": [
    {
     "data": {
      "image/png": "[encoded data removed]",
      "text/plain": [
       "<Figure size 720x432 with 1 Axes>"
      ]
     },
     "execution_count": 26,
     "metadata": {},
     "output_type": "execute_result"
    }
   ],
   "source": [
    "from matplotlib.dates import DateFormatter, AutoDateLocator\n",
    "# Improve on the default ticking\n",
    "locator = AutoDateLocator()\n",
    "hoursFmt = DateFormatter('%H')\n",
    "ax.xaxis.set_major_locator(locator)\n",
    "ax.xaxis.set_major_formatter(hoursFmt)\n",
    "fig = ax.get_figure()\n",
    "fig"
   ]
  },
  {
   "cell_type": "markdown",
   "metadata": {},
   "source": [
    "<div class=\"alert alert-success\">\n",
    "    <b>EXERCISE</b>:\n",
    "     <ul>\n",
    "        <li>Pick a different location.</li>\n",
    "        <li>Plot temperature and dewpoint together on the same plot.</li>\n",
    "        <li>Use ax.set.xlabel and the corresponding y label to set sensible labels.</li>\n",
    "    </ul>\n",
    "</div>"
   ]
  },
  {
   "cell_type": "code",
   "execution_count": 27,
   "metadata": {},
   "outputs": [],
   "source": [
    "# Your code goes here\n"
   ]
  },
  {
   "cell_type": "code",
   "execution_count": 28,
   "metadata": {},
   "outputs": [
    {
     "name": "stderr",
     "output_type": "stream",
     "text": [
      "/home/travis/miniconda/envs/unidata/lib/python3.7/site-packages/siphon/ncss.py:433: VisibleDeprecationWarning: Reading unicode strings without specifying the encoding argument is deprecated. Set the encoding, use None for the system default.\n",
      "  converters={'date': lambda s: parse_iso_date(s.decode('utf-8'))})\n"
     ]
    },
    {
     "data": {
      "image/png": "[encoded data removed]",
      "text/plain": [
       "<Figure size 720x432 with 1 Axes>"
      ]
     },
     "metadata": {
      "needs_background": "light"
     },
     "output_type": "display_data"
    }
   ],
   "source": [
    "# %load solutions/pd_time_series.py\n",
    "\n",
    "# Cell content replaced by load magic replacement.\n",
    "# define the time range we are interested in\n",
    "end_time = datetime(2017, 9, 12, 0)\n",
    "start_time = end_time - timedelta(days=2)\n",
    "\n",
    "# build the query\n",
    "query = ncss.query()\n",
    "query.lonlat_point(-155.1, 19.7)\n",
    "query.time_range(start_time, end_time)\n",
    "query.variables('altimeter_setting', 'temperature', 'dewpoint',\n",
    "                'wind_direction', 'wind_speed')\n",
    "query.accept('csv')\n",
    "\n",
    "data = ncss.get_data(query)\n",
    "\n",
    "df = pd.DataFrame(data)\n",
    "\n",
    "# Parse the date time stamps\n",
    "df['time'] = pd.to_datetime(df['time'].str.decode('utf-8'), infer_datetime_format=True)\n",
    "\n",
    "# Station names are bytes, we need to convert them to strings\n",
    "df['station'] = df['station'].str.decode('utf-8')\n",
    "\n",
    "# Make the plot\n",
    "ax = df.plot(x='time', y=['temperature', 'dewpoint'],\n",
    "             color=['tab:red', 'tab:green'],\n",
    "             grid=True,\n",
    "             figsize=(10,6),\n",
    "             fontsize=14)\n",
    "\n",
    "# Set good labels\n",
    "ax.set_xlabel('Time', fontsize=16)\n",
    "ax.set_ylabel('DegC', fontsize=16)\n",
    "ax.set_title(f\"{df['station'][0]} {df['time'][0]:%Y/%m/%d}\", fontsize=22)\n",
    "\n",
    "# Improve on the default ticking\n",
    "locator = AutoDateLocator()\n",
    "hoursFmt = DateFormatter('%H')\n",
    "ax.xaxis.set_major_locator(locator)\n",
    "ax.xaxis.set_major_formatter(hoursFmt)"
   ]
  },
  {
   "cell_type": "markdown",
   "metadata": {},
   "source": [
    "<a href=\"#top\">Top</a>\n",
    "<hr style=\"height:2px;\">"
   ]
  }
 ],
 "metadata": {
  "kernelspec": {
   "display_name": "Python 3",
   "language": "python",
   "name": "python3"
  },
  "language_info": {
   "codemirror_mode": {
    "name": "ipython",
    "version": 3
   },
   "file_extension": ".py",
   "mimetype": "text/x-python",
   "name": "python",
   "nbconvert_exporter": "python",
   "pygments_lexer": "ipython3",
   "version": "3.7.8"
  }
 },
 "nbformat": 4,
 "nbformat_minor": 4
}
