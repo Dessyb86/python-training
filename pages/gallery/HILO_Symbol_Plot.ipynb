{
 "cells": [
  {
   "cell_type": "markdown",
   "metadata": {
    "cell_marker": "\"\"\""
   },
   "source": [
    "MSLP and 1000-500 hPa Thickness with High and Low Symbols\n",
    "=========================================================\n",
    "\n",
    "Plot MSLP, calculate and plot 1000-500 hPa thickness, and plot H and L markers.\n",
    "Beyond just plotting a few variables, in the example we use functionality\n",
    "from the scipy module to find local maximum and minimimum values within the\n",
    "MSLP field in order to plot symbols at those locations."
   ]
  },
  {
   "cell_type": "markdown",
   "metadata": {
    "cell_marker": "###############################"
   },
   "source": [
    "Imports"
   ]
  },
  {
   "cell_type": "code",
   "execution_count": null,
   "metadata": {},
   "outputs": [],
   "source": [
    "from datetime import datetime\n",
    "\n",
    "import cartopy.crs as ccrs\n",
    "import cartopy.feature as cfeature\n",
    "import matplotlib.pyplot as plt\n",
    "import numpy as np\n",
    "from metpy.units import units\n",
    "from scipy.ndimage import gaussian_filter\n",
    "from siphon.catalog import TDSCatalog\n",
    "from xarray.backends import NetCDF4DataStore\n",
    "import xarray as xr"
   ]
  },
  {
   "cell_type": "markdown",
   "metadata": {
    "cell_marker": "###############################"
   },
   "source": [
    "Function for finding and plotting max/min points"
   ]
  },
  {
   "cell_type": "code",
   "execution_count": null,
   "metadata": {
    "lines_to_next_cell": 1
   },
   "outputs": [],
   "source": [
    "def plot_maxmin_points(lon, lat, data, extrema, nsize, symbol, color='k',\n",
    "                       plotValue=True, transform=None, ax=None):\n",
    "    \"\"\"\n",
    "    This function will find and plot relative maximum and minimum for a 2D\n",
    "    grid. The function can be used to plot an H for maximum values (e.g.,\n",
    "    High pressure) and an L for minimum values (e.g., low pressue). It is\n",
    "    best to used filetered data to obtain  a synoptic scale max/min value.\n",
    "    The symbol text can be set to a string value and optionally the color\n",
    "    of the symbol and any plotted value can be set with the parameter color\n",
    "\n",
    "    lon = plotting longitude values (2D)\n",
    "\n",
    "    lat = plotting latitude values (2D)\n",
    "\n",
    "    data = 2D data that you wish to plot the max/min symbol placement\n",
    "\n",
    "    extrema = Either a value of max for Maximum Values or min for Minimum\n",
    "    Values\n",
    "\n",
    "    nsize = Size of the grid box to filter the max and min values to plot a\n",
    "    reasonable number\n",
    "\n",
    "    symbol = String to be placed at location of max/min value\n",
    "\n",
    "    color = String matplotlib colorname to plot the symbol (and numerica\n",
    "    value, if plotted)\n",
    "\n",
    "    plot_value = Boolean (True/False) of whether to plot the numeric value\n",
    "    of max/min point\n",
    "\n",
    "    ax = axes object to plot onto, defaults to current axes\n",
    "\n",
    "    The max/min symbol will be plotted only within the bounding frame\n",
    "    (i.e., clip_on=True, clip_box=ax.bbox)\n",
    "    \"\"\"\n",
    "    import matplotlib.pyplot as plt\n",
    "    from scipy.ndimage.filters import maximum_filter, minimum_filter\n",
    "\n",
    "    if ax is None:\n",
    "        ax = plt.gca()\n",
    "\n",
    "    if (extrema == 'max'):\n",
    "        data_ext = maximum_filter(data, nsize, mode='nearest')\n",
    "    elif (extrema == 'min'):\n",
    "        data_ext = minimum_filter(data, nsize, mode='nearest')\n",
    "    else:\n",
    "        raise ValueError('Value for hilo must be either max or min')\n",
    "\n",
    "    mxy, mxx = np.where(data_ext == data)\n",
    "\n",
    "    for i in range(len(mxy)):\n",
    "        ax.text(lon[mxy[i], mxx[i]], lat[mxy[i], mxx[i]], symbol, color=color,\n",
    "                size=24, clip_on=True, clip_box=ax.bbox,\n",
    "                horizontalalignment='center', verticalalignment='center',\n",
    "                transform=transform)\n",
    "        ax.text(lon[mxy[i], mxx[i]], lat[mxy[i], mxx[i]],\n",
    "                '\\n' + str(np.int(data[mxy[i], mxx[i]])),\n",
    "                color=color, size=12, clip_on=True, clip_box=ax.bbox,\n",
    "                fontweight='bold', horizontalalignment='center',\n",
    "                verticalalignment='top', transform=transform)"
   ]
  },
  {
   "cell_type": "markdown",
   "metadata": {
    "cell_marker": "###############################",
    "lines_to_next_cell": 0
   },
   "source": [
    "Get NARR data"
   ]
  },
  {
   "cell_type": "code",
   "execution_count": null,
   "metadata": {},
   "outputs": [],
   "source": [
    "# Specify our date/time of product desired\n",
    "dt = datetime(1999, 1, 3, 0)\n",
    "\n",
    "# Assemble our URL to the NCEI THREDDS Data Server catalog,\n",
    "# and access our desired dataset within via NCSS\n",
    "base_url = 'https://www.ncei.noaa.gov/thredds/model-narr-a-files/'\n",
    "cat = TDSCatalog(f'{base_url}{dt:%Y%m}/{dt:%Y%m%d}/catalog.xml')\n",
    "ncss = cat.datasets[f'narr-a_221_{dt:%Y%m%d}_{dt:%H}00_000.grb'].subset()\n",
    "\n",
    "# Create a NCSS query to add specifications to\n",
    "query = ncss.query()\n",
    "\n",
    "query.all_times()\n",
    "query.add_lonlat()\n",
    "query.accept('netcdf')\n",
    "query.variables('Pressure_reduced_to_MSL_msl',\n",
    "                'Geopotential_height_isobaric')\n",
    "\n",
    "# Obtain the data we want to query for\n",
    "data = ncss.get_data(query)\n",
    "# Make into an xarray Dataset object\n",
    "ds = xr.open_dataset(NetCDF4DataStore(data)).metpy.parse_cf()"
   ]
  },
  {
   "cell_type": "markdown",
   "metadata": {
    "cell_marker": "###############################"
   },
   "source": [
    "Extract data into variables"
   ]
  },
  {
   "cell_type": "code",
   "execution_count": null,
   "metadata": {},
   "outputs": [],
   "source": [
    "# Grab pressure levels\n",
    "plev = list(ds.isobaric1.values)\n",
    "\n",
    "# Grab lat/lons and make all lons 0-360\n",
    "lats = ds.lat.values\n",
    "lons = ds.lon.values\n",
    "lons[lons < 0] = 360 + lons[lons < 0]\n",
    "\n",
    "# Grab valid time and get into datetime format\n",
    "time = ds.time2.metpy.sel(time=dt)\n",
    "vtime = time.values.astype('datetime64[ms]').astype('O')\n",
    "\n",
    "# Grab MSLP and smooth, use MetPy Units module for conversion\n",
    "emsl_var = ds.Pressure_reduced_to_MSL_msl.metpy.sel(time=dt)\n",
    "mslp = gaussian_filter(emsl_var.metpy.convert_units('hPa'), sigma=3.0)\n",
    "\n",
    "# Grab pressure level data\n",
    "hght_1000 = ds.Geopotential_height_isobaric.metpy.sel(\n",
    "    time=dt, vertical=1000 * units.hPa)\n",
    "hght_500 = ds.Geopotential_height_isobaric.metpy.sel(\n",
    "    time=dt, vertical=500 * units.hPa)\n",
    "\n",
    "# Calculate and smooth 1000-500 hPa thickness\n",
    "thickness_1000_500 = gaussian_filter(hght_500 - hght_1000, sigma=3.0)"
   ]
  },
  {
   "cell_type": "markdown",
   "metadata": {
    "cell_marker": "###############################"
   },
   "source": [
    "Set map and data projections for use in mapping"
   ]
  },
  {
   "cell_type": "code",
   "execution_count": null,
   "metadata": {},
   "outputs": [],
   "source": [
    "# Set projection of map display\n",
    "mapproj = ccrs.LambertConformal(central_latitude=45., central_longitude=-100.)\n",
    "\n",
    "# Set projection of data\n",
    "dataproj = ccrs.PlateCarree()"
   ]
  },
  {
   "cell_type": "markdown",
   "metadata": {
    "cell_marker": "###############################",
    "lines_to_next_cell": 0
   },
   "source": [
    "Create figure and plot data"
   ]
  },
  {
   "cell_type": "code",
   "execution_count": null,
   "metadata": {},
   "outputs": [],
   "source": [
    "fig = plt.figure(1, figsize=(17., 11.))\n",
    "ax = plt.subplot(111, projection=mapproj)\n",
    "\n",
    "# Set extent and plot map lines\n",
    "ax.set_extent([-145., -70, 20., 60.], ccrs.PlateCarree())\n",
    "ax.add_feature(cfeature.COASTLINE.with_scale('50m'),\n",
    "               edgecolor='black', linewidth=0.75)\n",
    "ax.add_feature(cfeature.STATES.with_scale('50m'),\n",
    "               edgecolor='black', linewidth=0.5)\n",
    "\n",
    "# Plot thickness with multiple colors\n",
    "clevs = (np.arange(0, 5400, 60),\n",
    "         np.array([5400]),\n",
    "         np.arange(5460, 7000, 60))\n",
    "colors = ('tab:blue', 'b', 'tab:red')\n",
    "kw_clabels = {'fontsize': 11, 'inline': True, 'inline_spacing': 5,\n",
    "              'fmt': '%i', 'rightside_up': True,\n",
    "              'use_clabeltext': True}\n",
    "for clevthick, color in zip(clevs, colors):\n",
    "    cs = ax.contour(lons, lats, thickness_1000_500,\n",
    "                    levels=clevthick, colors=color,\n",
    "                    linewidths=1.0, linestyles='dashed',\n",
    "                    transform=dataproj)\n",
    "    plt.clabel(cs, **kw_clabels)\n",
    "\n",
    "# Plot MSLP\n",
    "clevmslp = np.arange(800., 1120., 4)\n",
    "cs2 = ax.contour(lons, lats, mslp, clevmslp, colors='k', linewidths=1.25,\n",
    "                 linestyles='solid', transform=dataproj)\n",
    "plt.clabel(cs2, **kw_clabels)\n",
    "\n",
    "# Use definition to plot H/L symbols\n",
    "plot_maxmin_points(lons, lats, mslp, 'max', 50, symbol='H', color='b',\n",
    "                   transform=dataproj)\n",
    "plot_maxmin_points(lons, lats, mslp, 'min', 25, symbol='L', color='r',\n",
    "                   transform=dataproj)\n",
    "\n",
    "# Put on some titles\n",
    "plt.title('MSLP (hPa) with Highs and Lows, 1000-500 hPa Thickness (m)',\n",
    "          loc='left')\n",
    "plt.title(f'VALID: {vtime}', loc='right')"
   ]
  },
  {
   "cell_type": "code",
   "execution_count": null,
   "metadata": {},
   "outputs": [],
   "source": []
  }
 ],
 "metadata": {
  "jupytext": {
   "cell_metadata_filter": "-all",
   "main_language": "python",
   "notebook_metadata_filter": "-all"
  },
  "kernelspec": {
   "display_name": "Python 3",
   "language": "python",
   "name": "python3"
  },
  "language_info": {
   "codemirror_mode": {
    "name": "ipython",
    "version": 3
   },
   "file_extension": ".py",
   "mimetype": "text/x-python",
   "name": "python",
   "nbconvert_exporter": "python",
   "pygments_lexer": "ipython3",
   "version": "3.8.6"
  }
 },
 "nbformat": 4,
 "nbformat_minor": 4
}
