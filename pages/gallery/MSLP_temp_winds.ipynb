{
 "cells": [
  {
   "cell_type": "markdown",
   "metadata": {
    "cell_marker": "\"\"\""
   },
   "source": [
    "Model Surface Output\n",
    "=============================\n",
    "\n",
    "Plot an surface map with mean sea level pressure (MSLP),\n",
    "2m Temperature (F), and Wind Barbs (kt)."
   ]
  },
  {
   "cell_type": "markdown",
   "metadata": {
    "cell_marker": "###############################",
    "lines_to_next_cell": 0
   },
   "source": [
    "Imports"
   ]
  },
  {
   "cell_type": "code",
   "execution_count": 1,
   "metadata": {},
   "outputs": [],
   "source": [
    "from datetime import datetime\n",
    "\n",
    "import cartopy.crs as ccrs\n",
    "import cartopy.feature as cfeature\n",
    "import matplotlib.pyplot as plt\n",
    "import numpy as np\n",
    "import scipy.ndimage as ndimage\n",
    "from metpy.units import units\n",
    "from siphon.catalog import TDSCatalog\n",
    "from xarray.backends import NetCDF4DataStore\n",
    "import xarray as xr"
   ]
  },
  {
   "cell_type": "markdown",
   "metadata": {
    "cell_marker": "#################################"
   },
   "source": [
    "Helper functions"
   ]
  },
  {
   "cell_type": "code",
   "execution_count": null,
   "metadata": {
    "lines_to_next_cell": 1
   },
   "outputs": [],
   "source": [
    "# Helper function for finding proper time variable\n",
    "def find_time_var(var, time_basename='time'):\n",
    "    for coord_name in var.coordinates.split():\n",
    "        if coord_name.startswith(time_basename):\n",
    "            return coord_name\n",
    "    raise ValueError('No time variable found for ' + var.name)"
   ]
  },
  {
   "cell_type": "markdown",
   "metadata": {
    "cell_marker": "###############################################"
   },
   "source": [
    "Create NCSS object to access the NetcdfSubset\n",
    "---------------------------------------------\n",
    "Data from NCEI GFS 0.5 deg Analysis Archive"
   ]
  },
  {
   "cell_type": "code",
   "execution_count": null,
   "metadata": {},
   "outputs": [],
   "source": [
    "# Specify our date/time of product desired\n",
    "dt = datetime(2018, 1, 4, 12)\n",
    "\n",
    "# Construct the URL for our THREDDS Data Server Catalog,\n",
    "# and access our desired dataset within via NCSS\n",
    "base_url = 'https://www.ncei.noaa.gov/thredds/model-gfs-g4-anl-files-old/'\n",
    "cat = TDSCatalog(f'{base_url}{dt:%Y%m}/{dt:%Y%m%d}/catalog.xml')\n",
    "ncss = cat.datasets[f'gfsanl_4_{dt:%Y%m%d}_{dt:%H}00_000.grb2'].subset()\n",
    "\n",
    "# Create our NCSS query with desired specifications\n",
    "query = ncss.query()\n",
    "query.time(dt)\n",
    "query.lonlat_box(north=65, south=15, east=310, west=220)\n",
    "query.accept('netcdf')\n",
    "query.variables('Pressure_reduced_to_MSL_msl',\n",
    "                'Apparent_temperature_height_above_ground',\n",
    "                'u-component_of_wind_height_above_ground',\n",
    "                'v-component_of_wind_height_above_ground')\n",
    "\n",
    "# Obtain the data we've queried for\n",
    "data = ncss.get_data(query)\n",
    "# Make into an xarray Dataset object\n",
    "ds = xr.open_dataset(NetCDF4DataStore(data)).metpy.parse_cf()"
   ]
  },
  {
   "cell_type": "markdown",
   "metadata": {
    "cell_marker": "###############################################"
   },
   "source": [
    "Begin data maipulation\n",
    "-----------------------\n",
    "Data for the surface from a model is a bit complicated.\n",
    "The variables come from different levels and may have different data array shapes.\n",
    "\n",
    "MSLP: Pressure_reduced_to_MSL_msl (time, lat, lon)\n",
    "\n",
    "2m Temp: Apparent_temperature_height_above_ground (time, level, lat, lon)\n",
    "\n",
    "10m Wind: u/v-component_of_wind_height_above_ground (time, level, lat, lon)\n",
    "\n",
    "Height above ground Temp from GFS has one level (2m)\n",
    "\n",
    "Height above ground Wind from GFS has three levels (10m, 80m, 100m)"
   ]
  },
  {
   "cell_type": "code",
   "execution_count": null,
   "metadata": {},
   "outputs": [],
   "source": [
    "# Pull out variables you want to use\n",
    "temp_level = 2 * units.meters\n",
    "wind_level = 10 * units.meters\n",
    "\n",
    "mslp = ds.Pressure_reduced_to_MSL_msl.squeeze()\n",
    "temp = ds.Apparent_temperature_height_above_ground.metpy.sel(\n",
    "    vertical=temp_level).squeeze()\n",
    "u_wind_10m = ds['u-component_of_wind_height_above_ground'].metpy.sel(\n",
    "    vertical=wind_level).squeeze()\n",
    "v_wind_10m = ds['v-component_of_wind_height_above_ground'].metpy.sel(\n",
    "    vertical=wind_level).squeeze()\n",
    "lat = ds.lat\n",
    "lon = ds.lon\n",
    "time_var = ds.Pressure_reduced_to_MSL_msl.time\n",
    "time = time_var.values.astype('datetime64[ms]').astype('O').squeeze()\n",
    "\n",
    "# Combine 1D latitude and longitudes into a 2D grid of locations\n",
    "lon_2d, lat_2d = np.meshgrid(lon, lat)\n",
    "\n",
    "# Smooth MSLP a little\n",
    "# Be sure to only put in a 2D lat/lon or Y/X array for smoothing\n",
    "smooth_mslp = ndimage.gaussian_filter(mslp.metpy.convert_units('hPa'),\n",
    "                                      sigma=3, order=0) * units.Pa"
   ]
  },
  {
   "cell_type": "markdown",
   "metadata": {
    "cell_marker": "###############################################"
   },
   "source": [
    "Begin map creation\n",
    "------------------"
   ]
  },
  {
   "cell_type": "code",
   "execution_count": null,
   "metadata": {},
   "outputs": [],
   "source": [
    "# Set Projection of Data\n",
    "datacrs = ccrs.PlateCarree()\n",
    "\n",
    "# Set Projection of Plot\n",
    "plotcrs = ccrs.LambertConformal(central_latitude=[30, 60],\n",
    "                                central_longitude=-100)\n",
    "\n",
    "# Create new figure\n",
    "fig = plt.figure(figsize=(12, 12))\n",
    "\n",
    "# Add the map and set the extent\n",
    "ax = plt.subplot(111, projection=plotcrs)\n",
    "plt.title('GFS Analysis MSLP, 2m Temperature (F), Wind Barbs (kt)'\n",
    "          f' {time:%d %B %Y %H:%MZ}', fontsize=16)\n",
    "ax.set_extent([235., 290., 20., 55.])\n",
    "\n",
    "# Add state boundaries to plot\n",
    "ax.add_feature(cfeature.STATES.with_scale('50m'),\n",
    "               edgecolor='black', linewidth=1)\n",
    "\n",
    "# Add country borders to plot\n",
    "ax.add_feature(cfeature.BORDERS.with_scale('50m'),\n",
    "               edgecolor='black', linewidth=1)\n",
    "\n",
    "# Plot MSLP Contours\n",
    "clev_mslp = np.arange(0, 1200, 4)\n",
    "cs = ax.contour(lon_2d, lat_2d, smooth_mslp, clev_mslp, colors='black',\n",
    "                linewidths=1.5, linestyles='solid', transform=datacrs)\n",
    "plt.clabel(cs, fontsize=10, inline=1, inline_spacing=10, fmt='%i',\n",
    "           rightside_up=True, use_clabeltext=True)\n",
    "\n",
    "# Plot 2m Temperature Contours\n",
    "clevtemp = np.arange(-60, 101, 10)\n",
    "cs2 = ax.contour(lon_2d, lat_2d, temp.metpy.convert_units(units('degF')),\n",
    "                 clevtemp, colors='tab:red', linewidths=1.25,\n",
    "                 linestyles='dotted', transform=datacrs)\n",
    "plt.clabel(cs2, fontsize=10, inline=1, inline_spacing=10, fmt='%i',\n",
    "           rightside_up=True, use_clabeltext=True)\n",
    "\n",
    "# Plot 10m Wind Barbs\n",
    "ax.barbs(lon_2d, lat_2d,\n",
    "         u_wind_10m.metpy.convert_units('kts').values,\n",
    "         v_wind_10m.metpy.convert_units('kts').values,\n",
    "         length=6, regrid_shape=20, pivot='middle', transform=datacrs)"
   ]
  },
  {
   "cell_type": "code",
   "execution_count": null,
   "metadata": {},
   "outputs": [],
   "source": []
  }
 ],
 "metadata": {
  "jupytext": {
   "cell_metadata_filter": "-all",
   "main_language": "python",
   "notebook_metadata_filter": "-all"
  },
  "kernelspec": {
   "display_name": "Python 3",
   "language": "python",
   "name": "python3"
  },
  "language_info": {
   "codemirror_mode": {
    "name": "ipython",
    "version": 3
   },
   "file_extension": ".py",
   "mimetype": "text/x-python",
   "name": "python",
   "nbconvert_exporter": "python",
   "pygments_lexer": "ipython3",
   "version": "3.8.6"
  }
 },
 "nbformat": 4,
 "nbformat_minor": 4
}
